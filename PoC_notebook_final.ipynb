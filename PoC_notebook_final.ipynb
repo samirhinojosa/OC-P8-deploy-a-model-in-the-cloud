{
 "cells": [
  {
   "cell_type": "markdown",
   "id": "151f0221-a161-4fd7-ab3a-6643d07080f2",
   "metadata": {
    "tags": []
   },
   "source": [
    "<div style=\"display: flex; background-color: #3F579F;\">\n",
    "    <h1 style=\"margin: auto; font-weight: bold; padding: 30px 30px 0px 30px; color:#fff;\" align=\"center\">Deploy a model in the cloud - P8</h1>\n",
    "</div>\n",
    "<div style=\"display: flex; background-color: #3F579F; margin: auto; padding: 5px 30px 0px 30px;\" >\n",
    "    <h3 style=\"width: 100%; text-align: center; float: left; font-size: 24px; color:#fff;\" align=\"center\">| Notebook - Proof of Concept |</h3>\n",
    "</div>\n",
    "<div style=\"display: flex; background-color: #3F579F; margin: auto; padding: 10px 30px 30px 30px;\">\n",
    "    <h4 style=\"width: 100%; text-align: center; float: left; font-size: 24px; color:#fff;\" align=\"center\">Data Scientist course - OpenClassrooms</h4>\n",
    "</div>"
   ]
  },
  {
   "cell_type": "markdown",
   "id": "b25f43e5-2d91-485f-a1d2-b58f66fddf9a",
   "metadata": {},
   "source": [
    "<div style=\"background-color: #506AB9;\" >\n",
    "    <h2 style=\"margin: auto; padding: 20px; color:#fff; \">1. Libraries & static variables</h2>\n",
    "</div>"
   ]
  },
  {
   "cell_type": "code",
   "execution_count": 1,
   "id": "32cfee7b-d20b-47a0-90ae-f6775a5b0f19",
   "metadata": {},
   "outputs": [
    {
     "name": "stderr",
     "output_type": "stream",
     "text": [
      "2022-03-12 18:34:42.032022: W tensorflow/stream_executor/platform/default/dso_loader.cc:64] Could not load dynamic library 'libcudart.so.11.0'; dlerror: libcudart.so.11.0: cannot open shared object file: No such file or directory\n",
      "2022-03-12 18:34:42.032063: I tensorflow/stream_executor/cuda/cudart_stub.cc:29] Ignore above cudart dlerror if you do not have a GPU set up on your machine.\n"
     ]
    }
   ],
   "source": [
    "## General\n",
    "import os\n",
    "import io\n",
    "import numpy as np\n",
    "import pandas as pd\n",
    "from PIL import Image\n",
    "import seaborn as sns\n",
    "import matplotlib.pyplot as plt\n",
    "\n",
    "## To connect with S3 files\n",
    "import botocore.session\n",
    "import boto3\n",
    "\n",
    "## Spark\n",
    "import findspark\n",
    "findspark.init()\n",
    "import pyspark\n",
    "from pyspark.sql import SparkSession\n",
    "from pyspark.sql.functions import (split, col, pandas_udf,\n",
    "                                   PandasUDFType, udf)\n",
    "from pyspark.ml.linalg import Vectors, VectorUDT\n",
    "from pyspark.ml.feature import StandardScaler, PCA\n",
    "\n",
    "## Tensorflow \n",
    "import tensorflow as tf\n",
    "from tensorflow.keras.applications.resnet50 import ResNet50, preprocess_input\n",
    "from tensorflow.keras.preprocessing.image import img_to_array"
   ]
  },
  {
   "cell_type": "code",
   "execution_count": 2,
   "id": "76878382-4115-43df-b367-6863f35b9d12",
   "metadata": {},
   "outputs": [],
   "source": [
    "BUCKET = \"oc-p8-bucket\"\n",
    "SUBFOLDER = \"test/images/\"\n",
    "RESULT = \"result\"\n",
    "DUMMY_FILE = \"SampleCSVFile_556kb.csv\""
   ]
  },
  {
   "cell_type": "markdown",
   "id": "b0c279db-f820-4e3c-94fb-193b421682f9",
   "metadata": {
    "tags": []
   },
   "source": [
    "<div style=\"background-color: #506AB9;\" >\n",
    "    <h2 style=\"margin: auto; padding: 20px; color:#fff; \">2. Testing connection to S3</h2>\n",
    "</div>"
   ]
  },
  {
   "cell_type": "markdown",
   "id": "e124b7f1-fc0f-40f6-b402-9e31c4026f8c",
   "metadata": {},
   "source": [
    "<div class=\"alert alert-block alert-info\">\n",
    "    <p>We are going to print the name of the first 5 elements in the S3.</p>\n",
    "</div>"
   ]
  },
  {
   "cell_type": "code",
   "execution_count": 3,
   "id": "77d4551d-a478-4ebd-8303-82fa91e556ca",
   "metadata": {},
   "outputs": [],
   "source": [
    "conn = boto3.client(\"s3\")"
   ]
  },
  {
   "cell_type": "code",
   "execution_count": 4,
   "id": "ec527638-5641-44e8-8ab5-272fb2c1a756",
   "metadata": {},
   "outputs": [
    {
     "name": "stdout",
     "output_type": "stream",
     "text": [
      "SampleCSVFile_556kb.csv\n",
      "result/\n",
      "result/P7_PCA_result.csv\n",
      "result/P7_PCA_result_v2.csv\n",
      "test/\n"
     ]
    }
   ],
   "source": [
    "contents = conn.list_objects(Bucket=BUCKET)[\"Contents\"]\n",
    "for k in list(contents)[:5]:\n",
    "    print(k[\"Key\"])"
   ]
  },
  {
   "cell_type": "markdown",
   "id": "43645b82-cf0e-4671-b9c8-1da0e2ebd5c0",
   "metadata": {},
   "source": [
    "<div class=\"alert alert-block alert-info\">\n",
    "    <p>Now, we are going to test whether we can read an image from S3.</p>\n",
    "</div>"
   ]
  },
  {
   "cell_type": "code",
   "execution_count": 5,
   "id": "da7aa942-f485-4c47-80d4-b3ab742e1aac",
   "metadata": {},
   "outputs": [
    {
     "data": {
      "image/png": "[encoded data removed]",
      "text/plain": [
       "<PIL.JpegImagePlugin.JpegImageFile image mode=RGB size=100x100 at 0x7F4A0042B160>"
      ]
     },
     "execution_count": 5,
     "metadata": {},
     "output_type": "execute_result"
    }
   ],
   "source": [
    "test_img = Image.open(\n",
    "            io.BytesIO(\n",
    "                conn.get_object(\n",
    "                    Bucket=BUCKET,\n",
    "                    Key=list(contents)[7][\"Key\"])[\"Body\"].read()\n",
    "                )\n",
    "    )\n",
    "\n",
    "test_img"
   ]
  },
  {
   "cell_type": "markdown",
   "id": "e0341b9c-0dba-4cc3-87fa-a5263c32047a",
   "metadata": {
    "tags": []
   },
   "source": [
    "<div style=\"background-color: #506AB9;\" >\n",
    "    <h2 style=\"margin: auto; padding: 20px; color:#fff; \">3. Spark session</h2>\n",
    "</div>"
   ]
  },
  {
   "cell_type": "markdown",
   "id": "8a1197f4-9b26-4f5b-acf4-8d435c360e50",
   "metadata": {},
   "source": [
    "<div class=\"alert alert-block alert-info\">\n",
    "    <p>Let's setup Spark</p>\n",
    "</div>"
   ]
  },
  {
   "cell_type": "code",
   "execution_count": 6,
   "id": "15cce31f-782f-491b-b5c9-e049576176a8",
   "metadata": {
    "tags": []
   },
   "outputs": [],
   "source": [
    "session = botocore.session.get_session()\n",
    "credentials = session.get_credentials()\n",
    "region = (boto3.session.Session()).region_name"
   ]
  },
  {
   "cell_type": "code",
   "execution_count": 7,
   "id": "38c12413-d5c6-4901-b14b-e7b1040907bd",
   "metadata": {},
   "outputs": [
    {
     "name": "stderr",
     "output_type": "stream",
     "text": [
      "22/03/12 18:34:45 WARN NativeCodeLoader: Unable to load native-hadoop library for your platform... using builtin-java classes where applicable\n",
      "Using Spark's default log4j profile: org/apache/spark/log4j-defaults.properties\n",
      "Setting default log level to \"WARN\".\n",
      "To adjust logging level use sc.setLogLevel(newLevel). For SparkR, use setLogLevel(newLevel).\n",
      "22/03/12 18:34:47 WARN Utils: Service 'SparkUI' could not bind on port 4040. Attempting port 4041.\n"
     ]
    },
    {
     "data": {
      "text/html": [
       "\n",
       "            <div>\n",
       "                <p><b>SparkSession - in-memory</b></p>\n",
       "                \n",
       "        <div>\n",
       "            <p><b>SparkContext</b></p>\n",
       "\n",
       "            <p><a href=\"http://ip-172-31-80-208.ec2.internal:4041\">Spark UI</a></p>\n",
       "\n",
       "            <dl>\n",
       "              <dt>Version</dt>\n",
       "                <dd><code>v3.0.3</code></dd>\n",
       "              <dt>Master</dt>\n",
       "                <dd><code>local[*]</code></dd>\n",
       "              <dt>AppName</dt>\n",
       "                <dd><code>P8-FRUITS</code></dd>\n",
       "            </dl>\n",
       "        </div>\n",
       "        \n",
       "            </div>\n",
       "        "
      ],
      "text/plain": [
       "<pyspark.sql.session.SparkSession at 0x7f497c350670>"
      ]
     },
     "execution_count": 7,
     "metadata": {},
     "output_type": "execute_result"
    }
   ],
   "source": [
    "spark = (\n",
    "    SparkSession\n",
    "    .builder\n",
    "    .appName(\"P8-FRUITS\")\n",
    "    .getOrCreate()\n",
    ")\n",
    "\n",
    "spark"
   ]
  },
  {
   "cell_type": "markdown",
   "id": "8d70f94c-454e-4575-8c72-4471d7bc7e07",
   "metadata": {},
   "source": [
    "<div class=\"alert alert-block alert-info\">\n",
    "    <p>Let's setup the aws information</p>\n",
    "</div>"
   ]
  },
  {
   "cell_type": "code",
   "execution_count": 8,
   "id": "2b6cdc06-6b2c-4040-a4ef-d93bd9011cb1",
   "metadata": {},
   "outputs": [],
   "source": [
    "sc = spark.sparkContext._jsc.hadoopConfiguration()\n",
    "sc.set(\"fs.s3a.awsAccessKeyId\", credentials.access_key)\n",
    "sc.set(\"fs.s3a.awsSecretAccessKey\", credentials.secret_key)\n",
    "sc.set(\"fs.s3a.impl\",\"org.apache.hadoop.fs.s3a.S3AFileSystem\")\n",
    "sc.set(\"fs.s3a.impl\",\"org.apache.hadoop.fs.s3native.NativeS3FileSystem\")\n",
    "sc.set(\"com.amazonaws.services.s3.enableV4\", \"true\")\n",
    "sc.set(\"fs.s3a.aws.credentials.provider\",\"org.apache.hadoop.fs.s3a.BasicAWSCredentialsProvider\")\n",
    "sc.set(\"fs.s3a.endpoint\", region + \".amazonaws.com\")"
   ]
  },
  {
   "cell_type": "markdown",
   "id": "c5845142-d79e-4724-8186-33e193cc9f2a",
   "metadata": {
    "tags": []
   },
   "source": [
    "<div style=\"background-color: #506AB9;\" >\n",
    "    <h3 style=\"margin: auto; padding: 20px; color:#fff; \">3.1 Testing connection to S3 with Spark</h3>\n",
    "</div>"
   ]
  },
  {
   "cell_type": "markdown",
   "id": "0919981f-f214-4688-89d3-fa6a39ac1d01",
   "metadata": {},
   "source": [
    "<div class=\"alert alert-block alert-info\">\n",
    "    <p>Now, we are going to test the connection with Spark to our bucket. To do that, we are going to read a sample csv.</p>\n",
    "</div>"
   ]
  },
  {
   "cell_type": "code",
   "execution_count": 9,
   "id": "4bb52165-08b6-4d65-bc04-dec18c0b8966",
   "metadata": {},
   "outputs": [],
   "source": [
    "data_location = \"s3a://{}/{}\".format(BUCKET, DUMMY_FILE)"
   ]
  },
  {
   "cell_type": "code",
   "execution_count": 10,
   "id": "9999d5ab-99ae-41d5-8a69-5d65eb32d644",
   "metadata": {},
   "outputs": [
    {
     "name": "stderr",
     "output_type": "stream",
     "text": [
      "                                                                                \r"
     ]
    }
   ],
   "source": [
    "df_dummy = spark.read.csv(data_location, header=\"False\", inferSchema=True)\n",
    "df_dummy = df_dummy.drop(\"1\")"
   ]
  },
  {
   "cell_type": "code",
   "execution_count": 11,
   "id": "bb1e5488-97ca-44d9-8801-379d9893fc72",
   "metadata": {},
   "outputs": [
    {
     "data": {
      "text/html": [
       "<div>\n",
       "<style scoped>\n",
       "    .dataframe tbody tr th:only-of-type {\n",
       "        vertical-align: middle;\n",
       "    }\n",
       "\n",
       "    .dataframe tbody tr th {\n",
       "        vertical-align: top;\n",
       "    }\n",
       "\n",
       "    .dataframe thead th {\n",
       "        text-align: right;\n",
       "    }\n",
       "</style>\n",
       "<table border=\"1\" class=\"dataframe\">\n",
       "  <thead>\n",
       "    <tr style=\"text-align: right;\">\n",
       "      <th></th>\n",
       "      <th>_c0</th>\n",
       "      <th>_c1</th>\n",
       "      <th>_c2</th>\n",
       "      <th>_c3</th>\n",
       "      <th>_c4</th>\n",
       "      <th>_c5</th>\n",
       "      <th>_c6</th>\n",
       "      <th>_c7</th>\n",
       "      <th>_c8</th>\n",
       "      <th>_c9</th>\n",
       "    </tr>\n",
       "  </thead>\n",
       "  <tbody>\n",
       "    <tr>\n",
       "      <th>0</th>\n",
       "      <td>1</td>\n",
       "      <td>Eldon Base for stackable storage shelf, platinum</td>\n",
       "      <td>Muhammed MacIntyre</td>\n",
       "      <td>3</td>\n",
       "      <td>-213.25</td>\n",
       "      <td>38.94</td>\n",
       "      <td>35</td>\n",
       "      <td>Nunavut</td>\n",
       "      <td>Storage &amp; Organization</td>\n",
       "      <td>0.8</td>\n",
       "    </tr>\n",
       "    <tr>\n",
       "      <th>1</th>\n",
       "      <td>2</td>\n",
       "      <td>\"1.7 Cubic Foot Compact \"\"Cube\"\" Office Refrig...</td>\n",
       "      <td>Barry French</td>\n",
       "      <td>293</td>\n",
       "      <td>457.81</td>\n",
       "      <td>208.16</td>\n",
       "      <td>68.02</td>\n",
       "      <td>Nunavut</td>\n",
       "      <td>Appliances</td>\n",
       "      <td>0.58</td>\n",
       "    </tr>\n",
       "    <tr>\n",
       "      <th>2</th>\n",
       "      <td>3</td>\n",
       "      <td>Cardinal Slant-D� Ring Binder, Heavy Gauge Vinyl</td>\n",
       "      <td>Barry French</td>\n",
       "      <td>293</td>\n",
       "      <td>46.71</td>\n",
       "      <td>8.69</td>\n",
       "      <td>2.99</td>\n",
       "      <td>Nunavut</td>\n",
       "      <td>Binders and Binder Accessories</td>\n",
       "      <td>0.39</td>\n",
       "    </tr>\n",
       "    <tr>\n",
       "      <th>3</th>\n",
       "      <td>4</td>\n",
       "      <td>R380</td>\n",
       "      <td>Clay Rozendal</td>\n",
       "      <td>483</td>\n",
       "      <td>1198.97</td>\n",
       "      <td>195.99</td>\n",
       "      <td>3.99</td>\n",
       "      <td>Nunavut</td>\n",
       "      <td>Telephones and Communication</td>\n",
       "      <td>0.58</td>\n",
       "    </tr>\n",
       "    <tr>\n",
       "      <th>4</th>\n",
       "      <td>5</td>\n",
       "      <td>Holmes HEPA Air Purifier</td>\n",
       "      <td>Carlos Soltero</td>\n",
       "      <td>515</td>\n",
       "      <td>30.94</td>\n",
       "      <td>21.78</td>\n",
       "      <td>5.94</td>\n",
       "      <td>Nunavut</td>\n",
       "      <td>Appliances</td>\n",
       "      <td>0.5</td>\n",
       "    </tr>\n",
       "  </tbody>\n",
       "</table>\n",
       "</div>"
      ],
      "text/plain": [
       "   _c0                                                _c1                 _c2  \\\n",
       "0    1   Eldon Base for stackable storage shelf, platinum  Muhammed MacIntyre   \n",
       "1    2  \"1.7 Cubic Foot Compact \"\"Cube\"\" Office Refrig...        Barry French   \n",
       "2    3   Cardinal Slant-D� Ring Binder, Heavy Gauge Vinyl        Barry French   \n",
       "3    4                                               R380       Clay Rozendal   \n",
       "4    5                           Holmes HEPA Air Purifier      Carlos Soltero   \n",
       "\n",
       "   _c3      _c4     _c5    _c6      _c7                             _c8   _c9  \n",
       "0    3  -213.25   38.94     35  Nunavut          Storage & Organization   0.8  \n",
       "1  293   457.81  208.16  68.02  Nunavut                      Appliances  0.58  \n",
       "2  293    46.71    8.69   2.99  Nunavut  Binders and Binder Accessories  0.39  \n",
       "3  483  1198.97  195.99   3.99  Nunavut    Telephones and Communication  0.58  \n",
       "4  515    30.94   21.78   5.94  Nunavut                      Appliances   0.5  "
      ]
     },
     "execution_count": 11,
     "metadata": {},
     "output_type": "execute_result"
    }
   ],
   "source": [
    "df_dummy.limit(5).toPandas()"
   ]
  },
  {
   "cell_type": "code",
   "execution_count": 12,
   "id": "42c0cb6f-ff83-4c0c-8e7c-ba968797e47f",
   "metadata": {},
   "outputs": [
    {
     "name": "stdout",
     "output_type": "stream",
     "text": [
      "root\n",
      " |-- _c0: integer (nullable = true)\n",
      " |-- _c1: string (nullable = true)\n",
      " |-- _c2: string (nullable = true)\n",
      " |-- _c3: string (nullable = true)\n",
      " |-- _c4: string (nullable = true)\n",
      " |-- _c5: string (nullable = true)\n",
      " |-- _c6: string (nullable = true)\n",
      " |-- _c7: string (nullable = true)\n",
      " |-- _c8: string (nullable = true)\n",
      " |-- _c9: string (nullable = true)\n",
      "\n"
     ]
    }
   ],
   "source": [
    "df_dummy.printSchema()"
   ]
  },
  {
   "cell_type": "markdown",
   "id": "50b17fe7-bb9c-463c-87ff-e4c2e7a651d3",
   "metadata": {},
   "source": [
    "<div class=\"alert alert-block alert-success\">\n",
    "    <p>Great!, we can access to S3 from ours Notebook through Spark / Pyspark</p>\n",
    "</div>"
   ]
  },
  {
   "cell_type": "markdown",
   "id": "68288265-40fd-41df-8f63-10cae6f7bf7a",
   "metadata": {
    "tags": []
   },
   "source": [
    "<div style=\"background-color: #506AB9;\" >\n",
    "    <h3 style=\"margin: auto; padding: 20px; color:#fff; \">3.2 Testing reading an image from S3 through Spark</h3>\n",
    "</div>"
   ]
  },
  {
   "cell_type": "markdown",
   "id": "2cf94db0-d25b-4e77-a5d9-ca1da5ed8f1b",
   "metadata": {},
   "source": [
    "<div class=\"alert alert-block alert-info\">\n",
    "    <p>Now, let's try to read an image from the bucket</p>\n",
    "</div>"
   ]
  },
  {
   "cell_type": "code",
   "execution_count": 13,
   "id": "4db91606-9820-46e8-87b2-50f62f44208a",
   "metadata": {},
   "outputs": [],
   "source": [
    "image = spark.read.format(\"image\").load(\"s3a://{}/{}\".format(BUCKET, list(contents)[7][\"Key\"]))"
   ]
  },
  {
   "cell_type": "code",
   "execution_count": 14,
   "id": "1d97decd-5c22-4db0-b047-a4857b28b0d4",
   "metadata": {},
   "outputs": [
    {
     "name": "stdout",
     "output_type": "stream",
     "text": [
      "root\n",
      " |-- image: struct (nullable = true)\n",
      " |    |-- origin: string (nullable = true)\n",
      " |    |-- height: integer (nullable = true)\n",
      " |    |-- width: integer (nullable = true)\n",
      " |    |-- nChannels: integer (nullable = true)\n",
      " |    |-- mode: integer (nullable = true)\n",
      " |    |-- data: binary (nullable = true)\n",
      "\n"
     ]
    }
   ],
   "source": [
    "image.printSchema()"
   ]
  },
  {
   "cell_type": "code",
   "execution_count": 15,
   "id": "8120e0b0-eaef-4829-8caa-0926da4ff904",
   "metadata": {},
   "outputs": [
    {
     "name": "stdout",
     "output_type": "stream",
     "text": [
      "+--------------------+\n",
      "|               image|\n",
      "+--------------------+\n",
      "|[s3a://oc-p8-buck...|\n",
      "+--------------------+\n",
      "\n"
     ]
    }
   ],
   "source": [
    "image.show()"
   ]
  },
  {
   "cell_type": "code",
   "execution_count": 16,
   "id": "6f0ddfc3-b798-4699-a10a-a549dcaab3cf",
   "metadata": {},
   "outputs": [],
   "source": [
    "img = image.first()"
   ]
  },
  {
   "cell_type": "code",
   "execution_count": 17,
   "id": "bc39a762-e4c1-4ee1-bc0b-17f918d34d5d",
   "metadata": {},
   "outputs": [],
   "source": [
    "img = np.array(img.asDict()[\"image\"][\"data\"]).reshape(100, 100, 3)[:, :, ::-1]"
   ]
  },
  {
   "cell_type": "code",
   "execution_count": 18,
   "id": "bcc742ec-2380-48bf-a029-f276aa110c3c",
   "metadata": {},
   "outputs": [
    {
     "data": {
      "image/png": "[encoded data removed]",
      "text/plain": [
       "<PIL.Image.Image image mode=RGB size=100x100 at 0x7F497C341940>"
      ]
     },
     "execution_count": 18,
     "metadata": {},
     "output_type": "execute_result"
    }
   ],
   "source": [
    "Image.fromarray(img, \"RGB\")"
   ]
  },
  {
   "cell_type": "markdown",
   "id": "36d06a2e-33f8-4ced-a738-f06d73c0527f",
   "metadata": {},
   "source": [
    "<div class=\"alert alert-block alert-success\">\n",
    "    <p>So far, We have access to an image. Let's go to read all images in the bucket.</p>\n",
    "</div>"
   ]
  },
  {
   "cell_type": "markdown",
   "id": "f6afa17a-68e5-4846-8090-98c366a2b861",
   "metadata": {
    "tags": []
   },
   "source": [
    "<div style=\"background-color: #506AB9;\" >\n",
    "    <h2 style=\"margin: auto; padding: 20px; color:#fff; \">3. Reading images with Spark</h2>\n",
    "</div>"
   ]
  },
  {
   "cell_type": "markdown",
   "id": "c48802d8-d744-4766-b556-66e02e67c33a",
   "metadata": {},
   "source": [
    "<div class=\"alert alert-block alert-info\">\n",
    "    <p>To read the images, we will restrict the format only to *.jpg. In addition, we will read all subdirectories in the main directory.</p>\n",
    "</div>"
   ]
  },
  {
   "cell_type": "code",
   "execution_count": 20,
   "id": "4bab5950-ad8e-42a6-a3a2-5e3e0825d458",
   "metadata": {},
   "outputs": [],
   "source": [
    "df_images = spark.read.format(\"binaryfile\")\\\n",
    "      .option(\"recursiveFileLookup\", \"true\")\\\n",
    "      .load(\"s3a://{}/{}/*\".format(BUCKET, SUBFOLDER))"
   ]
  },
  {
   "cell_type": "code",
   "execution_count": 21,
   "id": "d0ea48c6-e09b-4d60-b59e-67a06e9bee76",
   "metadata": {},
   "outputs": [
    {
     "name": "stdout",
     "output_type": "stream",
     "text": [
      "root\n",
      " |-- path: string (nullable = true)\n",
      " |-- modificationTime: timestamp (nullable = true)\n",
      " |-- length: long (nullable = true)\n",
      " |-- content: binary (nullable = true)\n",
      "\n"
     ]
    }
   ],
   "source": [
    "df_images.printSchema()"
   ]
  },
  {
   "cell_type": "code",
   "execution_count": 22,
   "id": "a04529d5-f68e-4e16-a618-9fb3a00a1fda",
   "metadata": {},
   "outputs": [
    {
     "name": "stdout",
     "output_type": "stream",
     "text": [
      "+--------------------+-------------------+------+--------------------+\n",
      "|                path|   modificationTime|length|             content|\n",
      "+--------------------+-------------------+------+--------------------+\n",
      "|s3a://oc-p8-bucke...|2022-02-28 09:03:42|  7415|[FF D8 FF E0 00 1...|\n",
      "|s3a://oc-p8-bucke...|2022-02-28 09:03:41|  7314|[FF D8 FF E0 00 1...|\n",
      "|s3a://oc-p8-bucke...|2022-02-28 09:03:06|  7178|[FF D8 FF E0 00 1...|\n",
      "|s3a://oc-p8-bucke...|2022-02-28 09:03:40|  7089|[FF D8 FF E0 00 1...|\n",
      "|s3a://oc-p8-bucke...|2022-02-28 09:03:13|  6823|[FF D8 FF E0 00 1...|\n",
      "+--------------------+-------------------+------+--------------------+\n",
      "only showing top 5 rows\n",
      "\n"
     ]
    }
   ],
   "source": [
    "df_images.show(5)"
   ]
  },
  {
   "cell_type": "markdown",
   "id": "1cb874bd-6bf5-4830-8a90-231d4b081bdb",
   "metadata": {},
   "source": [
    "<div class=\"alert alert-block alert-info\">\n",
    "    <p>Let's just save the interested variables for each image.</p>\n",
    "</div>"
   ]
  },
  {
   "cell_type": "code",
   "execution_count": 23,
   "id": "77f3d31e-90b3-4a2b-83a5-66c47af66037",
   "metadata": {
    "tags": []
   },
   "outputs": [
    {
     "name": "stdout",
     "output_type": "stream",
     "text": [
      "root\n",
      " |-- path: string (nullable = true)\n",
      " |-- category: string (nullable = true)\n",
      " |-- content: binary (nullable = true)\n",
      "\n"
     ]
    }
   ],
   "source": [
    "df_images = df_images.withColumn(\"category\", split(col(\"path\"), \"/\").getItem(5))\n",
    "df_images = df_images.select(\"path\", \"category\", \"content\")\n",
    "df_images.printSchema()"
   ]
  },
  {
   "cell_type": "code",
   "execution_count": 24,
   "id": "7269aebd-e977-4d3a-96e8-608e3ec5d8bd",
   "metadata": {},
   "outputs": [
    {
     "name": "stdout",
     "output_type": "stream",
     "text": [
      "+--------------------+----------+--------------------+\n",
      "|                path|  category|             content|\n",
      "+--------------------+----------+--------------------+\n",
      "|s3a://oc-p8-bucke...| Raspberry|[FF D8 FF E0 00 1...|\n",
      "|s3a://oc-p8-bucke...| Raspberry|[FF D8 FF E0 00 1...|\n",
      "|s3a://oc-p8-bucke...| Raspberry|[FF D8 FF E0 00 1...|\n",
      "|s3a://oc-p8-bucke...| Raspberry|[FF D8 FF E0 00 1...|\n",
      "|s3a://oc-p8-bucke...|Watermelon|[FF D8 FF E0 00 1...|\n",
      "+--------------------+----------+--------------------+\n",
      "only showing top 5 rows\n",
      "\n"
     ]
    }
   ],
   "source": [
    "df_images.show(5)"
   ]
  },
  {
   "cell_type": "markdown",
   "id": "929489e4-e5d6-4545-85d3-4f9a8c55b88c",
   "metadata": {},
   "source": [
    "<div class=\"alert alert-block alert-success\">\n",
    "    <p>Now, we have only the interested variables of each image.</p>\n",
    "</div>"
   ]
  },
  {
   "cell_type": "markdown",
   "id": "d46c09ad-be38-40df-ac02-0033d2a96bc9",
   "metadata": {
    "tags": []
   },
   "source": [
    "<div style=\"background-color: red;\" >\n",
    "    <h1 style=\"margin: auto; padding: 20px; color:#fff; \">----- FLAG -----</h1>\n",
    "</div>"
   ]
  },
  {
   "cell_type": "code",
   "execution_count": 19,
   "id": "1c0930aa-8573-42df-bb76-2a02eb879dd5",
   "metadata": {},
   "outputs": [
    {
     "ename": "NameError",
     "evalue": "name 'ccccccccccccccccccc' is not defined",
     "output_type": "error",
     "traceback": [
      "\u001b[0;31m---------------------------------------------------------------------------\u001b[0m",
      "\u001b[0;31mNameError\u001b[0m                                 Traceback (most recent call last)",
      "Input \u001b[0;32mIn [19]\u001b[0m, in \u001b[0;36m<cell line: 1>\u001b[0;34m()\u001b[0m\n\u001b[0;32m----> 1\u001b[0m \u001b[43mccccccccccccccccccc\u001b[49m\n",
      "\u001b[0;31mNameError\u001b[0m: name 'ccccccccccccccccccc' is not defined"
     ]
    }
   ],
   "source": [
    "ccccccccccccccccccc"
   ]
  },
  {
   "cell_type": "markdown",
   "id": "bcaa39ec-c192-4622-82aa-54a59482f3e3",
   "metadata": {
    "tags": []
   },
   "source": [
    "<div style=\"background-color: #506AB9;\" >\n",
    "    <h2 style=\"margin: auto; padding: 20px; color:#fff; \">4. Preprocessing</h2>\n",
    "</div>"
   ]
  },
  {
   "cell_type": "markdown",
   "id": "5b1cbcab-0276-4c61-a193-f8a1fec6b00b",
   "metadata": {},
   "source": [
    "<div class=\"alert alert-block alert-info\">\n",
    "    <p>Now, we are going to take the content from an image to show the transformation that we are going to do before making the feature extraction</p>\n",
    "</div>"
   ]
  },
  {
   "cell_type": "code",
   "execution_count": 25,
   "id": "dc123c01-64ae-4195-9be1-12daae4302f8",
   "metadata": {},
   "outputs": [],
   "source": [
    "# Computer vision library\n",
    "import cv2"
   ]
  },
  {
   "cell_type": "code",
   "execution_count": 26,
   "id": "78575893-ef9d-404d-82fd-15f34191f260",
   "metadata": {},
   "outputs": [
    {
     "name": "stderr",
     "output_type": "stream",
     "text": [
      "                                                                                \r"
     ]
    }
   ],
   "source": [
    "image_content = df_images.collect()[0][2]"
   ]
  },
  {
   "cell_type": "code",
   "execution_count": 27,
   "id": "139f0cf3-d992-4d6e-a1df-b580c6f75eba",
   "metadata": {},
   "outputs": [],
   "source": [
    "image_content = Image.open(io.BytesIO(image_content))"
   ]
  },
  {
   "cell_type": "code",
   "execution_count": 28,
   "id": "5308b6ae-9e85-477d-b482-f29db918c89d",
   "metadata": {},
   "outputs": [
    {
     "data": {
      "image/png": "[encoded data removed]",
      "text/plain": [
       "<PIL.JpegImagePlugin.JpegImageFile image mode=RGB size=100x100 at 0x7F497C341FD0>"
      ]
     },
     "metadata": {},
     "output_type": "display_data"
    }
   ],
   "source": [
    "display(image_content)"
   ]
  },
  {
   "cell_type": "markdown",
   "id": "06e8ca54-bb31-422a-baaf-5236d1a4f06e",
   "metadata": {
    "tags": []
   },
   "source": [
    "<div style=\"background-color: #506AB9;\" >\n",
    "    <h3 style=\"margin: auto; padding: 20px; color:#fff; \">4.1 Resizing</h3>\n",
    "</div>"
   ]
  },
  {
   "cell_type": "code",
   "execution_count": null,
   "id": "3c107b80-6bb1-42c4-8b68-3c40dc193dcd",
   "metadata": {},
   "outputs": [],
   "source": []
  },
  {
   "cell_type": "code",
   "execution_count": null,
   "id": "bde58008-cef3-4039-ba38-07ebf1cee542",
   "metadata": {},
   "outputs": [],
   "source": []
  },
  {
   "cell_type": "code",
   "execution_count": null,
   "id": "f94bd294-5aab-4cfd-819b-eaa78f7d9370",
   "metadata": {},
   "outputs": [],
   "source": []
  },
  {
   "cell_type": "code",
   "execution_count": null,
   "id": "2efb9e63-620e-4f9b-a4fe-d6d14e6e742d",
   "metadata": {},
   "outputs": [],
   "source": [
    "\n",
    "\n",
    "from PIL import ImageOps\n",
    "import matplotlib.pyplot as plt"
   ]
  },
  {
   "cell_type": "code",
   "execution_count": null,
   "id": "9ef9048f-ea32-4ede-9024-c8e7f8512dcf",
   "metadata": {},
   "outputs": [],
   "source": [
    "image_text = img"
   ]
  },
  {
   "cell_type": "code",
   "execution_count": null,
   "id": "d71b2d83-8253-4d79-a03c-32b4ab2feda9",
   "metadata": {},
   "outputs": [],
   "source": [
    "type(image_text)"
   ]
  },
  {
   "cell_type": "code",
   "execution_count": null,
   "id": "ba9ee18d-2922-4d2e-8bb3-b9a245010c4e",
   "metadata": {},
   "outputs": [],
   "source": [
    "Image.fromarray(image_text, \"RGB\")"
   ]
  },
  {
   "cell_type": "code",
   "execution_count": null,
   "id": "fecfd3c2-fdd2-4ed0-b2a6-1063cce49e71",
   "metadata": {},
   "outputs": [],
   "source": []
  },
  {
   "cell_type": "code",
   "execution_count": null,
   "id": "6d88c0a0-2b39-4490-9870-4a044f4ef0c5",
   "metadata": {},
   "outputs": [],
   "source": []
  },
  {
   "cell_type": "code",
   "execution_count": null,
   "id": "b68c4fbe-5b9b-40db-a482-921389b51f6c",
   "metadata": {},
   "outputs": [],
   "source": []
  },
  {
   "cell_type": "code",
   "execution_count": null,
   "id": "2105dd20-b810-4761-b93c-41bdaaede1b4",
   "metadata": {},
   "outputs": [],
   "source": [
    "df_images.select(\"path\", \"category\", \"content\")"
   ]
  },
  {
   "cell_type": "code",
   "execution_count": null,
   "id": "83a2ebcc-3fc6-40ce-b491-7da09a45a057",
   "metadata": {},
   "outputs": [],
   "source": [
    "content = df_images.collect()[0][2]"
   ]
  },
  {
   "cell_type": "code",
   "execution_count": null,
   "id": "fdff0e9b-0b6a-44a4-8c13-9f70d2f988e8",
   "metadata": {},
   "outputs": [],
   "source": [
    "img = Image.open(io.BytesIO(content))"
   ]
  },
  {
   "cell_type": "code",
   "execution_count": null,
   "id": "4847fe25-45f2-4499-9cfe-f1485db7ce94",
   "metadata": {},
   "outputs": [],
   "source": [
    "type(img)"
   ]
  },
  {
   "cell_type": "code",
   "execution_count": null,
   "id": "c31007fa-4cff-4ee3-ad0b-0f886986bd89",
   "metadata": {},
   "outputs": [],
   "source": [
    "display(img)"
   ]
  },
  {
   "cell_type": "code",
   "execution_count": null,
   "id": "c951c38c-668d-48d5-ab74-384823251ef4",
   "metadata": {},
   "outputs": [],
   "source": [
    "img_resize = img.resize([224, 224])"
   ]
  },
  {
   "cell_type": "code",
   "execution_count": null,
   "id": "98bd38c9-d6ec-46d8-b848-8751e07e55a9",
   "metadata": {},
   "outputs": [],
   "source": [
    "display(img_resize)"
   ]
  },
  {
   "cell_type": "code",
   "execution_count": null,
   "id": "c2b866ac-186e-498e-8176-9519281e709d",
   "metadata": {},
   "outputs": [],
   "source": []
  },
  {
   "cell_type": "code",
   "execution_count": null,
   "id": "fa599db7-e355-4daf-a380-38ab69bb4309",
   "metadata": {},
   "outputs": [],
   "source": [
    "# Computer vision library\n",
    "import cv2\n",
    "\n",
    "from PIL import ImageOps"
   ]
  },
  {
   "cell_type": "code",
   "execution_count": null,
   "id": "359a0a44-d909-4f46-bd73-f0f8caf64efc",
   "metadata": {},
   "outputs": [],
   "source": []
  },
  {
   "cell_type": "markdown",
   "id": "05f623a2-f6d7-4e31-bd7f-5c9ef89b2181",
   "metadata": {
    "tags": []
   },
   "source": [
    "<div style=\"background-color: red;\" >\n",
    "    <h1 style=\"margin: auto; padding: 20px; color:#fff; \">----- FLAG -----</h1>\n",
    "</div>"
   ]
  },
  {
   "cell_type": "code",
   "execution_count": null,
   "id": "0b512b85-2279-492b-b5c5-6caf5f0477ae",
   "metadata": {},
   "outputs": [],
   "source": []
  },
  {
   "cell_type": "code",
   "execution_count": null,
   "id": "1c47ee1d-5936-43b8-91c4-8d5870cdf2bf",
   "metadata": {},
   "outputs": [],
   "source": []
  },
  {
   "cell_type": "code",
   "execution_count": null,
   "id": "a30ea7b6-9541-4804-b7ec-088c0fad5af4",
   "metadata": {},
   "outputs": [],
   "source": []
  },
  {
   "cell_type": "code",
   "execution_count": null,
   "id": "73ad02e3-b41c-4f89-a572-831c5d4835cd",
   "metadata": {},
   "outputs": [],
   "source": []
  },
  {
   "cell_type": "code",
   "execution_count": null,
   "id": "2ae8680e-4c99-4223-be1d-adc7f8125c64",
   "metadata": {},
   "outputs": [],
   "source": []
  },
  {
   "cell_type": "code",
   "execution_count": null,
   "id": "202f8dd4-3b43-4170-a143-bd463d138aa1",
   "metadata": {},
   "outputs": [],
   "source": []
  },
  {
   "cell_type": "code",
   "execution_count": null,
   "id": "67e2f834-2e9b-4eac-91d0-bf33a03f0cbf",
   "metadata": {},
   "outputs": [],
   "source": []
  },
  {
   "cell_type": "code",
   "execution_count": null,
   "id": "1bd9f3d7-4b9f-49df-8038-7a6d88fe0802",
   "metadata": {},
   "outputs": [],
   "source": []
  },
  {
   "cell_type": "code",
   "execution_count": null,
   "id": "da669a83-5f61-483c-8f75-655f14f58622",
   "metadata": {},
   "outputs": [],
   "source": []
  },
  {
   "cell_type": "code",
   "execution_count": null,
   "id": "6162a3af-3fb5-4de8-bd84-d5a7c478ea52",
   "metadata": {},
   "outputs": [],
   "source": []
  },
  {
   "cell_type": "code",
   "execution_count": null,
   "id": "e9263981-7284-4880-a81e-4187670683c3",
   "metadata": {},
   "outputs": [],
   "source": []
  },
  {
   "cell_type": "code",
   "execution_count": null,
   "id": "50309b20-f3cc-4e9a-b584-87b332f661ba",
   "metadata": {},
   "outputs": [],
   "source": []
  },
  {
   "cell_type": "markdown",
   "id": "9b660c7f-923e-46f8-bb1d-4af2f1f90653",
   "metadata": {
    "tags": []
   },
   "source": [
    "<div style=\"background-color: #506AB9;\" >\n",
    "    <h2 style=\"margin: auto; padding: 20px; color:#fff; \">4. Featurization for transfer learning</h2>\n",
    "</div>"
   ]
  },
  {
   "cell_type": "markdown",
   "id": "3289f32c-b2ee-4865-98eb-b3dfdfc91520",
   "metadata": {},
   "source": [
    "<div class=\"alert alert-block alert-info\">\n",
    "    <p>So far, we could read the images from out bucket (S3) through Spark.<br>\n",
    "    Now, we are going to extract the features based on a pre-trained TensorFlow model. <br>\n",
    "    To do that, We are going to base ourselves on the approach made by <a href=\"https://docs.databricks.com/applications/machine-learning/preprocess-data/transfer-learning-tensorflow.html\", target=\"blank\">Databricks</a></p>\n",
    "</div>"
   ]
  },
  {
   "cell_type": "code",
   "execution_count": null,
   "id": "7f954f27-aff2-467c-a3d7-100c302db378",
   "metadata": {},
   "outputs": [],
   "source": [
    "model = ResNet50(include_top=False)\n",
    "\n",
    "bc_model_weights = spark.sparkContext.broadcast(model.get_weights())"
   ]
  },
  {
   "cell_type": "code",
   "execution_count": null,
   "id": "b62de48e-dcd3-4949-9340-412776df499d",
   "metadata": {},
   "outputs": [],
   "source": [
    "def model_fn():\n",
    "    \"\"\"\n",
    "    Returns a ResNet50 model with top layer removed and broadcasted pretrained weights.\n",
    "    \"\"\"\n",
    "    \n",
    "    model = ResNet50(weights=None, include_top=False)\n",
    "    model.set_weights(bc_model_weights.value)\n",
    "    \n",
    "    return model"
   ]
  },
  {
   "cell_type": "code",
   "execution_count": null,
   "id": "f33a9ac4-8be0-4397-8fae-3ac9ca526708",
   "metadata": {},
   "outputs": [],
   "source": [
    "def preprocess(content):\n",
    "    \"\"\"\n",
    "    Preprocesses raw image bytes for prediction.\n",
    "    \"\"\"\n",
    "    \n",
    "    img = Image.open(io.BytesIO(content)).resize([224, 224])\n",
    "    \n",
    "    img = np.asarray(img)\n",
    "    img = np.array(ImageOps.equalize(ImageOps.autocontrast(Image.fromarray(img), cutoff=5)))\n",
    "    img = cv2.GaussianBlur(img, (5, 5), 0) \n",
    "    \n",
    "    \n",
    "    \n",
    "    \n",
    "    \n",
    "    \n",
    "    \n",
    "    \n",
    "    \n",
    "    arr = img_to_array(img)\n",
    "    \n",
    "    return preprocess_input(arr)"
   ]
  },
  {
   "cell_type": "code",
   "execution_count": null,
   "id": "e20c5503-503e-485d-89d5-783970945d0f",
   "metadata": {},
   "outputs": [],
   "source": [
    "def featurize_series(model, content_series):\n",
    "    \"\"\"\n",
    "    Featurize a pd.Series of raw images using the input model.\n",
    "    :return: a pd.Series of image features\n",
    "    \"\"\"\n",
    "    \n",
    "    input = np.stack(content_series.map(preprocess))\n",
    "    preds = model.predict(input)\n",
    "    \n",
    "    # For some layers, output features will be multi-dimensional tensors.\n",
    "    # We flatten the feature tensors to vectors for easier storage in Spark DataFrames.\n",
    "    output = [p.flatten() for p in preds]\n",
    "    \n",
    "    return pd.Series(output)"
   ]
  },
  {
   "cell_type": "code",
   "execution_count": null,
   "id": "395def55-d28d-49ac-85ab-230bcbc1a38c",
   "metadata": {},
   "outputs": [],
   "source": [
    "@pandas_udf('array<float>', PandasUDFType.SCALAR_ITER)\n",
    "def featurize_udf(content_series_iter):\n",
    "    \"\"\"\n",
    "    This method is a Scalar Iterator pandas UDF wrapping our featurization function.\n",
    "    The decorator specifies that this returns a Spark DataFrame column of type ArrayType(FloatType).\n",
    "    \n",
    "    :param content_series_iter: This argument is an iterator over batches of data, where each batch\n",
    "                                is a pandas Series of image data.\n",
    "    \"\"\"\n",
    "    \n",
    "    # With Scalar Iterator pandas UDFs, we can load the model once and then re-use it\n",
    "    # for multiple data batches.  This amortizes the overhead of loading big models.\n",
    "    model = model_fn()\n",
    "    for content_series in content_series_iter:\n",
    "        yield featurize_series(model, content_series)"
   ]
  },
  {
   "cell_type": "code",
   "execution_count": null,
   "id": "64ded264-4c7b-4b56-9938-1046153ad2d2",
   "metadata": {},
   "outputs": [],
   "source": [
    "df_features = df_images.repartition(16).select(col(\"path\"), col(\"category\"), featurize_udf(\"content\").alias(\"features\"))\n",
    "df_features.printSchema()"
   ]
  },
  {
   "cell_type": "code",
   "execution_count": null,
   "id": "b1cc1b6a-f853-498b-990c-b01fdbb0dac8",
   "metadata": {},
   "outputs": [],
   "source": [
    "df_features.show()"
   ]
  },
  {
   "cell_type": "markdown",
   "id": "96e3e77a-7eb8-4803-8d17-50924385452d",
   "metadata": {},
   "source": [
    "<div class=\"alert alert-block alert-success\">\n",
    "    <p>We have achieved to make the feature extraction.</p>\n",
    "</div>"
   ]
  },
  {
   "cell_type": "markdown",
   "id": "c0d9fe9f-8a20-4946-b0f1-a65103e451cd",
   "metadata": {
    "tags": []
   },
   "source": [
    "<div style=\"background-color: #506AB9;\" >\n",
    "    <h2 style=\"margin: auto; padding: 20px; color:#fff; \">5. PCA - Principal Components Analysis</h2>\n",
    "</div>"
   ]
  },
  {
   "cell_type": "code",
   "execution_count": null,
   "id": "dd296ac0-e465-4254-9a6f-285a2648433c",
   "metadata": {},
   "outputs": [],
   "source": [
    "to_vector = udf(lambda x: Vectors.dense(x), VectorUDT())\n",
    "df_features = df_features.select(col(\"path\"),  col(\"category\"), to_vector(df_features[\"features\"]).alias(\"features\"))"
   ]
  },
  {
   "cell_type": "code",
   "execution_count": null,
   "id": "9247737d-4959-454f-a3b9-480b2eb47449",
   "metadata": {},
   "outputs": [],
   "source": [
    "pca = PCA(k=7, inputCol=\"features\", outputCol=\"pca_features\")"
   ]
  },
  {
   "cell_type": "code",
   "execution_count": null,
   "id": "c0f64aa8-b468-4d6b-ab94-c53029d97cbd",
   "metadata": {},
   "outputs": [],
   "source": [
    "model_pca = pca.fit(df_features)"
   ]
  },
  {
   "cell_type": "code",
   "execution_count": null,
   "id": "6350a9a9-744e-4f5a-ad4a-6a1d11bd5f19",
   "metadata": {},
   "outputs": [],
   "source": [
    "pca_features = model_pca.transform(df_features)"
   ]
  },
  {
   "cell_type": "code",
   "execution_count": null,
   "id": "86ddd175-cfb8-4434-b47a-397b2c6eefc0",
   "metadata": {},
   "outputs": [],
   "source": [
    "pca_features.printSchema()"
   ]
  },
  {
   "cell_type": "code",
   "execution_count": null,
   "id": "2247a330-ca43-4f38-a255-c74bbf02ca06",
   "metadata": {},
   "outputs": [],
   "source": [
    "pca_features.show(8) "
   ]
  },
  {
   "cell_type": "markdown",
   "id": "e64b1a12-5cc8-4246-9238-911038dd5fde",
   "metadata": {},
   "source": [
    "<div class=\"alert alert-block alert-info\">\n",
    "    <p>Let's plot the % of inertia (variance) based on the principal components.</p>\n",
    "</div>"
   ]
  },
  {
   "cell_type": "code",
   "execution_count": null,
   "id": "b5125d22-5133-477e-a0d8-150af2eed3d0",
   "metadata": {},
   "outputs": [],
   "source": [
    "scree = model_pca.explainedVariance.cumsum()\n",
    "\n",
    "fig = plt.subplots(figsize=(8, 5))\n",
    "sns.set_context(context=\"notebook\", rc={\"lines.linewidth\": 3}, font_scale=0.8)\n",
    "sns.lineplot(x=[i for i in range(8)], y=np.insert(scree, 0, 0)*100, color=\"orangered\")\n",
    "plt.xlabel(\"Principal components\", size=12)\n",
    "plt.ylabel(\"% of inertia\", size=12)\n",
    "plt.title(\"Scree of eigenvalues\", size=20)\n",
    "plt.ylim(0, 100)\n",
    "plt.xlim(left=0)\n",
    "plt.tight_layout()\n",
    "plt.show()"
   ]
  },
  {
   "cell_type": "markdown",
   "id": "4ee3f26e-786d-4a49-990e-3cb5fd162500",
   "metadata": {},
   "source": [
    "<div class=\"alert alert-block alert-info\">\n",
    "    <p>Let's save the PCA results as *.csv into our S3.</p>\n",
    "</div>"
   ]
  },
  {
   "cell_type": "code",
   "execution_count": null,
   "id": "d02a6e4e-1b5d-423f-b793-98cd4a5abaf4",
   "metadata": {},
   "outputs": [],
   "source": [
    "df_final = pca_features.select(\"path\", \"category\", \"pca_features\")"
   ]
  },
  {
   "cell_type": "code",
   "execution_count": null,
   "id": "fa503a91-2b49-497e-b055-6f3885c85987",
   "metadata": {},
   "outputs": [],
   "source": [
    "df_final_pd = df_final.toPandas()"
   ]
  },
  {
   "cell_type": "code",
   "execution_count": null,
   "id": "ddd6352b-9f59-490a-bf93-21f92b94db36",
   "metadata": {},
   "outputs": [],
   "source": [
    "df_final_pd.to_csv(\"s3a://{}/{}/{}\".format(BUCKET, RESULT, \"P7_PCA_result.csv\"))"
   ]
  },
  {
   "cell_type": "code",
   "execution_count": null,
   "id": "2a63cd81-0de7-4ae7-837e-0fbb32a43971",
   "metadata": {},
   "outputs": [],
   "source": []
  }
 ],
 "metadata": {
  "kernelspec": {
   "display_name": "Python 3 (ipykernel)",
   "language": "python",
   "name": "python3"
  },
  "language_info": {
   "codemirror_mode": {
    "name": "ipython",
    "version": 3
   },
   "file_extension": ".py",
   "mimetype": "text/x-python",
   "name": "python",
   "nbconvert_exporter": "python",
   "pygments_lexer": "ipython3",
   "version": "3.8.10"
  }
 },
 "nbformat": 4,
 "nbformat_minor": 5
}
