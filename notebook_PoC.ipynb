{
 "cells": [
  {
   "cell_type": "markdown",
   "metadata": {
    "tags": []
   },
   "source": [
    "<div style=\"display: flex; background-color: #3F579F;\">\n",
    "    <h1 style=\"margin: auto; font-weight: bold; padding: 30px 30px 0px 30px; color:#fff;\" align=\"center\">Deploy a model in the cloud - P8</h1>\n",
    "</div>\n",
    "<div style=\"display: flex; background-color: #3F579F; margin: auto; padding: 5px 30px 0px 30px;\" >\n",
    "    <h3 style=\"width: 100%; text-align: center; float: left; font-size: 24px; color:#fff;\" align=\"center\">| Notebook - Proof of Concept |</h3>\n",
    "</div>\n",
    "<div style=\"display: flex; background-color: #3F579F; margin: auto; padding: 10px 30px 30px 30px;\">\n",
    "    <h4 style=\"width: 100%; text-align: center; float: left; font-size: 24px; color:#fff;\" align=\"center\">Data Scientist course - OpenClassrooms</h4>\n",
    "</div>"
   ]
  },
  {
   "cell_type": "markdown",
   "metadata": {},
   "source": [
    "<div style=\"background-color: #506AB9;\" >\n",
    "    <h2 style=\"margin: auto; padding: 20px; color:#fff; \">1. Libraries</h2>\n",
    "</div>"
   ]
  },
  {
   "cell_type": "code",
   "execution_count": 1,
   "metadata": {},
   "outputs": [],
   "source": [
    "import pandas as pd\n",
    "\n",
    "# Connections to S3 AWS\n",
    "import boto3"
   ]
  },
  {
   "cell_type": "code",
   "execution_count": null,
   "metadata": {},
   "outputs": [],
   "source": []
  },
  {
   "cell_type": "code",
   "execution_count": 2,
   "metadata": {},
   "outputs": [],
   "source": [
    "connexion = boto3.client('s3')"
   ]
  },
  {
   "cell_type": "code",
   "execution_count": 3,
   "metadata": {},
   "outputs": [],
   "source": [
    "bucket = \"oc-data-scientist\"\n",
    "subfolder = \"oc-p7/datasets/finals_datasets\"\n",
    "data_key = \"df_current_clients.csv\""
   ]
  },
  {
   "cell_type": "code",
   "execution_count": 4,
   "metadata": {},
   "outputs": [],
   "source": [
    "conn = boto3.client('s3')"
   ]
  },
  {
   "cell_type": "code",
   "execution_count": 5,
   "metadata": {},
   "outputs": [
    {
     "name": "stdout",
     "output_type": "stream",
     "text": [
      "oc-p7/datasets/finals_datasets/\n",
      "oc-p7/datasets/finals_datasets/df_clients_to_predict.csv\n",
      "oc-p7/datasets/finals_datasets/df_clients_to_predict_20220221.csv\n",
      "oc-p7/datasets/finals_datasets/df_clients_to_predict_feature_selected.csv\n",
      "oc-p7/datasets/finals_datasets/df_current_clients.csv\n",
      "oc-p7/datasets/finals_datasets/df_current_clients_feature_selected.csv\n"
     ]
    }
   ],
   "source": [
    "contents = conn.list_objects(Bucket=bucket, Prefix=subfolder)['Contents']\n",
    "for f in contents:\n",
    "    print(f['Key'])"
   ]
  },
  {
   "cell_type": "code",
   "execution_count": 6,
   "metadata": {},
   "outputs": [],
   "source": [
    "data_location = \"s3://{}/{}/{}\".format(bucket, subfolder, data_key)"
   ]
  },
  {
   "cell_type": "code",
   "execution_count": 7,
   "metadata": {},
   "outputs": [],
   "source": [
    "df_current_clients = pd.read_csv(data_location)"
   ]
  },
  {
   "cell_type": "code",
   "execution_count": 8,
   "metadata": {},
   "outputs": [
    {
     "data": {
      "text/html": [
       "<div>\n",
       "<style scoped>\n",
       "    .dataframe tbody tr th:only-of-type {\n",
       "        vertical-align: middle;\n",
       "    }\n",
       "\n",
       "    .dataframe tbody tr th {\n",
       "        vertical-align: top;\n",
       "    }\n",
       "\n",
       "    .dataframe thead th {\n",
       "        text-align: right;\n",
       "    }\n",
       "</style>\n",
       "<table border=\"1\" class=\"dataframe\">\n",
       "  <thead>\n",
       "    <tr style=\"text-align: right;\">\n",
       "      <th></th>\n",
       "      <th>index</th>\n",
       "      <th>SK_ID_CURR</th>\n",
       "      <th>TARGET</th>\n",
       "      <th>CODE_GENDER</th>\n",
       "      <th>FLAG_OWN_CAR</th>\n",
       "      <th>FLAG_OWN_REALTY</th>\n",
       "      <th>CNT_CHILDREN</th>\n",
       "      <th>AMT_INCOME_TOTAL</th>\n",
       "      <th>AMT_CREDIT</th>\n",
       "      <th>AMT_ANNUITY</th>\n",
       "      <th>...</th>\n",
       "      <th>INSTAL_AMT_INSTALMENT_MEAN</th>\n",
       "      <th>INSTAL_AMT_INSTALMENT_SUM</th>\n",
       "      <th>INSTAL_AMT_PAYMENT_MIN</th>\n",
       "      <th>INSTAL_AMT_PAYMENT_MAX</th>\n",
       "      <th>INSTAL_AMT_PAYMENT_MEAN</th>\n",
       "      <th>INSTAL_AMT_PAYMENT_SUM</th>\n",
       "      <th>INSTAL_DAYS_ENTRY_PAYMENT_MAX</th>\n",
       "      <th>INSTAL_DAYS_ENTRY_PAYMENT_MEAN</th>\n",
       "      <th>INSTAL_DAYS_ENTRY_PAYMENT_SUM</th>\n",
       "      <th>INSTAL_COUNT</th>\n",
       "    </tr>\n",
       "  </thead>\n",
       "  <tbody>\n",
       "    <tr>\n",
       "      <th>0</th>\n",
       "      <td>0</td>\n",
       "      <td>100002</td>\n",
       "      <td>1.0</td>\n",
       "      <td>0</td>\n",
       "      <td>0</td>\n",
       "      <td>0</td>\n",
       "      <td>0</td>\n",
       "      <td>202500.0</td>\n",
       "      <td>406597.5</td>\n",
       "      <td>24700.5</td>\n",
       "      <td>...</td>\n",
       "      <td>11559.247</td>\n",
       "      <td>219625.690</td>\n",
       "      <td>9251.775</td>\n",
       "      <td>53093.746</td>\n",
       "      <td>11559.247</td>\n",
       "      <td>219625.690</td>\n",
       "      <td>-49.0</td>\n",
       "      <td>-315.42105</td>\n",
       "      <td>-5993.0</td>\n",
       "      <td>19.0</td>\n",
       "    </tr>\n",
       "    <tr>\n",
       "      <th>1</th>\n",
       "      <td>1</td>\n",
       "      <td>100003</td>\n",
       "      <td>0.0</td>\n",
       "      <td>1</td>\n",
       "      <td>0</td>\n",
       "      <td>1</td>\n",
       "      <td>0</td>\n",
       "      <td>270000.0</td>\n",
       "      <td>1293502.5</td>\n",
       "      <td>35698.5</td>\n",
       "      <td>...</td>\n",
       "      <td>64754.586</td>\n",
       "      <td>1618864.600</td>\n",
       "      <td>6662.970</td>\n",
       "      <td>560835.400</td>\n",
       "      <td>64754.586</td>\n",
       "      <td>1618864.600</td>\n",
       "      <td>-544.0</td>\n",
       "      <td>-1385.32000</td>\n",
       "      <td>-34633.0</td>\n",
       "      <td>25.0</td>\n",
       "    </tr>\n",
       "    <tr>\n",
       "      <th>2</th>\n",
       "      <td>2</td>\n",
       "      <td>100004</td>\n",
       "      <td>0.0</td>\n",
       "      <td>0</td>\n",
       "      <td>1</td>\n",
       "      <td>0</td>\n",
       "      <td>0</td>\n",
       "      <td>67500.0</td>\n",
       "      <td>135000.0</td>\n",
       "      <td>6750.0</td>\n",
       "      <td>...</td>\n",
       "      <td>7096.155</td>\n",
       "      <td>21288.465</td>\n",
       "      <td>5357.250</td>\n",
       "      <td>10573.965</td>\n",
       "      <td>7096.155</td>\n",
       "      <td>21288.465</td>\n",
       "      <td>-727.0</td>\n",
       "      <td>-761.66670</td>\n",
       "      <td>-2285.0</td>\n",
       "      <td>3.0</td>\n",
       "    </tr>\n",
       "    <tr>\n",
       "      <th>3</th>\n",
       "      <td>3</td>\n",
       "      <td>100006</td>\n",
       "      <td>0.0</td>\n",
       "      <td>1</td>\n",
       "      <td>0</td>\n",
       "      <td>0</td>\n",
       "      <td>0</td>\n",
       "      <td>135000.0</td>\n",
       "      <td>312682.5</td>\n",
       "      <td>29686.5</td>\n",
       "      <td>...</td>\n",
       "      <td>62947.090</td>\n",
       "      <td>1007153.440</td>\n",
       "      <td>2482.920</td>\n",
       "      <td>691786.900</td>\n",
       "      <td>62947.090</td>\n",
       "      <td>1007153.440</td>\n",
       "      <td>-12.0</td>\n",
       "      <td>-271.62500</td>\n",
       "      <td>-4346.0</td>\n",
       "      <td>16.0</td>\n",
       "    </tr>\n",
       "    <tr>\n",
       "      <th>4</th>\n",
       "      <td>4</td>\n",
       "      <td>100007</td>\n",
       "      <td>0.0</td>\n",
       "      <td>0</td>\n",
       "      <td>0</td>\n",
       "      <td>0</td>\n",
       "      <td>0</td>\n",
       "      <td>121500.0</td>\n",
       "      <td>513000.0</td>\n",
       "      <td>21865.5</td>\n",
       "      <td>...</td>\n",
       "      <td>12666.444</td>\n",
       "      <td>835985.300</td>\n",
       "      <td>0.180</td>\n",
       "      <td>22678.785</td>\n",
       "      <td>12214.061</td>\n",
       "      <td>806128.000</td>\n",
       "      <td>-14.0</td>\n",
       "      <td>-1032.24240</td>\n",
       "      <td>-68128.0</td>\n",
       "      <td>66.0</td>\n",
       "    </tr>\n",
       "  </tbody>\n",
       "</table>\n",
       "<p>5 rows × 509 columns</p>\n",
       "</div>"
      ],
      "text/plain": [
       "   index  SK_ID_CURR  TARGET  CODE_GENDER  FLAG_OWN_CAR  FLAG_OWN_REALTY  \\\n",
       "0      0      100002     1.0            0             0                0   \n",
       "1      1      100003     0.0            1             0                1   \n",
       "2      2      100004     0.0            0             1                0   \n",
       "3      3      100006     0.0            1             0                0   \n",
       "4      4      100007     0.0            0             0                0   \n",
       "\n",
       "   CNT_CHILDREN  AMT_INCOME_TOTAL  AMT_CREDIT  AMT_ANNUITY  ...  \\\n",
       "0             0          202500.0    406597.5      24700.5  ...   \n",
       "1             0          270000.0   1293502.5      35698.5  ...   \n",
       "2             0           67500.0    135000.0       6750.0  ...   \n",
       "3             0          135000.0    312682.5      29686.5  ...   \n",
       "4             0          121500.0    513000.0      21865.5  ...   \n",
       "\n",
       "   INSTAL_AMT_INSTALMENT_MEAN  INSTAL_AMT_INSTALMENT_SUM  \\\n",
       "0                   11559.247                 219625.690   \n",
       "1                   64754.586                1618864.600   \n",
       "2                    7096.155                  21288.465   \n",
       "3                   62947.090                1007153.440   \n",
       "4                   12666.444                 835985.300   \n",
       "\n",
       "   INSTAL_AMT_PAYMENT_MIN  INSTAL_AMT_PAYMENT_MAX  INSTAL_AMT_PAYMENT_MEAN  \\\n",
       "0                9251.775               53093.746                11559.247   \n",
       "1                6662.970              560835.400                64754.586   \n",
       "2                5357.250               10573.965                 7096.155   \n",
       "3                2482.920              691786.900                62947.090   \n",
       "4                   0.180               22678.785                12214.061   \n",
       "\n",
       "   INSTAL_AMT_PAYMENT_SUM  INSTAL_DAYS_ENTRY_PAYMENT_MAX  \\\n",
       "0              219625.690                          -49.0   \n",
       "1             1618864.600                         -544.0   \n",
       "2               21288.465                         -727.0   \n",
       "3             1007153.440                          -12.0   \n",
       "4              806128.000                          -14.0   \n",
       "\n",
       "   INSTAL_DAYS_ENTRY_PAYMENT_MEAN  INSTAL_DAYS_ENTRY_PAYMENT_SUM  INSTAL_COUNT  \n",
       "0                      -315.42105                        -5993.0          19.0  \n",
       "1                     -1385.32000                       -34633.0          25.0  \n",
       "2                      -761.66670                        -2285.0           3.0  \n",
       "3                      -271.62500                        -4346.0          16.0  \n",
       "4                     -1032.24240                       -68128.0          66.0  \n",
       "\n",
       "[5 rows x 509 columns]"
      ]
     },
     "execution_count": 8,
     "metadata": {},
     "output_type": "execute_result"
    }
   ],
   "source": [
    "df_current_clients.head()"
   ]
  },
  {
   "cell_type": "code",
   "execution_count": 9,
   "metadata": {},
   "outputs": [],
   "source": [
    "data_test_borrar = \"s3://{}/{}/{}\".format(bucket, subfolder, \"sepuedeborrar.cvs\")"
   ]
  },
  {
   "cell_type": "code",
   "execution_count": 10,
   "metadata": {},
   "outputs": [],
   "source": [
    "df_current_clients.to_csv(data_test_borrar, index=False)"
   ]
  },
  {
   "cell_type": "code",
   "execution_count": null,
   "metadata": {},
   "outputs": [],
   "source": []
  }
 ],
 "metadata": {
  "instance_type": "ml.t3.medium",
  "kernelspec": {
   "display_name": "Python 3 (ipykernel)",
   "language": "python",
   "name": "python3"
  },
  "language_info": {
   "codemirror_mode": {
    "name": "ipython",
    "version": 3
   },
   "file_extension": ".py",
   "mimetype": "text/x-python",
   "name": "python",
   "nbconvert_exporter": "python",
   "pygments_lexer": "ipython3",
   "version": "3.8.10"
  }
 },
 "nbformat": 4,
 "nbformat_minor": 4
}
