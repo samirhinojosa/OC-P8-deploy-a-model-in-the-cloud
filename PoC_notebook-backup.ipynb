{
 "cells": [
  {
   "cell_type": "markdown",
   "id": "151f0221-a161-4fd7-ab3a-6643d07080f2",
   "metadata": {
    "tags": []
   },
   "source": [
    "<div style=\"display: flex; background-color: #3F579F;\">\n",
    "    <h1 style=\"margin: auto; font-weight: bold; padding: 30px 30px 0px 30px; color:#fff;\" align=\"center\">Deploy a model in the cloud - P8</h1>\n",
    "</div>\n",
    "<div style=\"display: flex; background-color: #3F579F; margin: auto; padding: 5px 30px 0px 30px;\" >\n",
    "    <h3 style=\"width: 100%; text-align: center; float: left; font-size: 24px; color:#fff;\" align=\"center\">| Notebook - Proof of Concept |</h3>\n",
    "</div>\n",
    "<div style=\"display: flex; background-color: #3F579F; margin: auto; padding: 10px 30px 30px 30px;\">\n",
    "    <h4 style=\"width: 100%; text-align: center; float: left; font-size: 24px; color:#fff;\" align=\"center\">Data Scientist course - OpenClassrooms</h4>\n",
    "</div>"
   ]
  },
  {
   "cell_type": "markdown",
   "id": "b25f43e5-2d91-485f-a1d2-b58f66fddf9a",
   "metadata": {},
   "source": [
    "<div style=\"background-color: #506AB9;\" >\n",
    "    <h2 style=\"margin: auto; padding: 20px; color:#fff; \">1. Libraries & static variables</h2>\n",
    "</div>"
   ]
  },
  {
   "cell_type": "code",
   "execution_count": 1,
   "id": "7963cfef-f344-4c14-93ca-8c7e88051316",
   "metadata": {},
   "outputs": [
    {
     "name": "stderr",
     "output_type": "stream",
     "text": [
      "2022-03-06 18:57:38.485827: W tensorflow/stream_executor/platform/default/dso_loader.cc:64] Could not load dynamic library 'libcudart.so.11.0'; dlerror: libcudart.so.11.0: cannot open shared object file: No such file or directory\n",
      "2022-03-06 18:57:38.485876: I tensorflow/stream_executor/cuda/cudart_stub.cc:29] Ignore above cudart dlerror if you do not have a GPU set up on your machine.\n"
     ]
    }
   ],
   "source": [
    "## General\n",
    "import os\n",
    "import io\n",
    "import numpy as np\n",
    "import pandas as pd\n",
    "from PIL import Image\n",
    "import seaborn as sns\n",
    "import matplotlib.pyplot as plt\n",
    "\n",
    "## To connect with S3 files\n",
    "import botocore.session\n",
    "import boto3\n",
    "\n",
    "## Spark\n",
    "import findspark\n",
    "findspark.init()\n",
    "import pyspark\n",
    "from pyspark.sql import SparkSession\n",
    "from pyspark.sql.functions import (split, col, pandas_udf,\n",
    "                                   PandasUDFType, udf)\n",
    "from pyspark.ml.linalg import Vectors, VectorUDT\n",
    "from pyspark.ml.feature import StandardScaler, PCA\n",
    "\n",
    "## Tensorflow \n",
    "import tensorflow as tf\n",
    "from tensorflow.keras.applications.resnet50 import ResNet50, preprocess_input\n",
    "from tensorflow.keras.preprocessing.image import img_to_array"
   ]
  },
  {
   "cell_type": "code",
   "execution_count": 2,
   "id": "76878382-4115-43df-b367-6863f35b9d12",
   "metadata": {},
   "outputs": [],
   "source": [
    "BUCKET = \"oc-p8-bucket\"\n",
    "SUBFOLDER = \"test/images/\"\n",
    "RESULT = \"result\"\n",
    "DUMMY_FILE = \"SampleCSVFile_556kb.csv\""
   ]
  },
  {
   "cell_type": "markdown",
   "id": "b0c279db-f820-4e3c-94fb-193b421682f9",
   "metadata": {
    "tags": []
   },
   "source": [
    "<div style=\"background-color: #506AB9;\" >\n",
    "    <h2 style=\"margin: auto; padding: 20px; color:#fff; \">2. Testing connection to S3</h2>\n",
    "</div>"
   ]
  },
  {
   "cell_type": "markdown",
   "id": "e124b7f1-fc0f-40f6-b402-9e31c4026f8c",
   "metadata": {},
   "source": [
    "<div class=\"alert alert-block alert-info\">\n",
    "    <p>We are going to print the name of the first 5 elements in the S3.</p>\n",
    "</div>"
   ]
  },
  {
   "cell_type": "code",
   "execution_count": 3,
   "id": "77d4551d-a478-4ebd-8303-82fa91e556ca",
   "metadata": {},
   "outputs": [],
   "source": [
    "conn = boto3.client(\"s3\")"
   ]
  },
  {
   "cell_type": "code",
   "execution_count": 4,
   "id": "ec527638-5641-44e8-8ab5-272fb2c1a756",
   "metadata": {},
   "outputs": [
    {
     "name": "stdout",
     "output_type": "stream",
     "text": [
      "SampleCSVFile_556kb.csv\n",
      "result/\n",
      "test/\n",
      "test/images/\n",
      "test/images/Apricot/0_100.jpg\n"
     ]
    }
   ],
   "source": [
    "contents = conn.list_objects(Bucket=BUCKET)[\"Contents\"]\n",
    "for k in list(contents)[:5]:\n",
    "    print(k[\"Key\"])"
   ]
  },
  {
   "cell_type": "markdown",
   "id": "43645b82-cf0e-4671-b9c8-1da0e2ebd5c0",
   "metadata": {},
   "source": [
    "<div class=\"alert alert-block alert-info\">\n",
    "    <p>Now, we are going to test whether we can read an image from S3.</p>\n",
    "</div>"
   ]
  },
  {
   "cell_type": "code",
   "execution_count": 5,
   "id": "da7aa942-f485-4c47-80d4-b3ab742e1aac",
   "metadata": {},
   "outputs": [
    {
     "data": {
      "image/png": "[encoded data removed]",
      "text/plain": [
       "<PIL.JpegImagePlugin.JpegImageFile image mode=RGB size=100x100 at 0x7F3265D37EE0>"
      ]
     },
     "execution_count": 5,
     "metadata": {},
     "output_type": "execute_result"
    }
   ],
   "source": [
    "test_img = Image.open(\n",
    "            io.BytesIO(\n",
    "                conn.get_object(\n",
    "                    Bucket=BUCKET,\n",
    "                    Key=list(contents)[5][\"Key\"])[\"Body\"].read()\n",
    "                )\n",
    "    )\n",
    "\n",
    "test_img"
   ]
  },
  {
   "cell_type": "markdown",
   "id": "e0341b9c-0dba-4cc3-87fa-a5263c32047a",
   "metadata": {
    "tags": []
   },
   "source": [
    "<div style=\"background-color: #506AB9;\" >\n",
    "    <h2 style=\"margin: auto; padding: 20px; color:#fff; \">3. Spark session</h2>\n",
    "</div>"
   ]
  },
  {
   "cell_type": "markdown",
   "id": "8a1197f4-9b26-4f5b-acf4-8d435c360e50",
   "metadata": {},
   "source": [
    "<div class=\"alert alert-block alert-info\">\n",
    "    <p>Let's setup Spark</p>\n",
    "</div>"
   ]
  },
  {
   "cell_type": "code",
   "execution_count": 6,
   "id": "15cce31f-782f-491b-b5c9-e049576176a8",
   "metadata": {
    "tags": []
   },
   "outputs": [],
   "source": [
    "session = botocore.session.get_session()\n",
    "credentials = session.get_credentials()\n",
    "region = (boto3.session.Session()).region_name"
   ]
  },
  {
   "cell_type": "code",
   "execution_count": 7,
   "id": "dd8121c9-6ae4-47b8-a0f9-ba9991c7dfa5",
   "metadata": {},
   "outputs": [],
   "source": [
    "# os.environ[\"PYSPARK_SUBMIT_ARGS\"] = \"--packages com.amazonaws:aws-java-sdk-pom:1.10.34,org.apache.hadoop:hadoop-aws:2.7.2 pyspark-shell\"\n",
    "# os.environ[\"PYSPARK_SUBMIT_ARGS\"]= \"--packages com.amazonaws:aws-java-sdk-pom:1.10.34,org.apache.hadoop:hadoop-common:2.7.2,org.apache.hadoop:hadoop-client:2.7.2,org.apache.hadoop:hadoop-aws:2.7.2,com.amazonaws:aws-java-sdk-bundle:1.11.874,com.google.guava:guava:27.1-jre,databricks:spark-deep-learning:1.5.0-spark2.4-s_2.11 pyspark-shell\""
   ]
  },
  {
   "cell_type": "code",
   "execution_count": 8,
   "id": "d4bda46a-5e45-42e7-861c-5b0e4002b13e",
   "metadata": {},
   "outputs": [
    {
     "name": "stderr",
     "output_type": "stream",
     "text": [
      "22/03/06 18:57:50 WARN NativeCodeLoader: Unable to load native-hadoop library for your platform... using builtin-java classes where applicable\n",
      "Using Spark's default log4j profile: org/apache/spark/log4j-defaults.properties\n",
      "Setting default log level to \"WARN\".\n",
      "To adjust logging level use sc.setLogLevel(newLevel). For SparkR, use setLogLevel(newLevel).\n"
     ]
    },
    {
     "data": {
      "text/html": [
       "\n",
       "            <div>\n",
       "                <p><b>SparkSession - in-memory</b></p>\n",
       "                \n",
       "        <div>\n",
       "            <p><b>SparkContext</b></p>\n",
       "\n",
       "            <p><a href=\"http://ip-172-31-80-208.ec2.internal:4040\">Spark UI</a></p>\n",
       "\n",
       "            <dl>\n",
       "              <dt>Version</dt>\n",
       "                <dd><code>v3.0.3</code></dd>\n",
       "              <dt>Master</dt>\n",
       "                <dd><code>local[*]</code></dd>\n",
       "              <dt>AppName</dt>\n",
       "                <dd><code>P8-FRUITS</code></dd>\n",
       "            </dl>\n",
       "        </div>\n",
       "        \n",
       "            </div>\n",
       "        "
      ],
      "text/plain": [
       "<pyspark.sql.session.SparkSession at 0x7f3265a6c250>"
      ]
     },
     "execution_count": 8,
     "metadata": {},
     "output_type": "execute_result"
    }
   ],
   "source": [
    "spark = (\n",
    "    SparkSession\n",
    "    .builder\n",
    "    .appName(\"P8-FRUITS\")\n",
    "    .getOrCreate()\n",
    ")\n",
    "\n",
    "spark\n",
    "\n",
    "# spark = (\n",
    "#     SparkSession.builder\n",
    "#     .master(\"local[*]\")\n",
    "#     .appName(\"P8-FRUITS\")\n",
    "#     .config(\"spark.driver.memory\", \"16g\")\n",
    "#     .config(\"spark.hadoop.fs.s3a.access.key\", credentials.access_key)\n",
    "#     .config(\"spark.hadoop.fs.s3a.secret.key\", credentials.secret_key)\n",
    "#     .config(\"spark.hadoop.fs.s3a.impl\", \"org.apache.hadoop.fs.s3a.S3AFileSystem\")\n",
    "#     .getOrCreate()\n",
    "# )"
   ]
  },
  {
   "cell_type": "markdown",
   "id": "8d70f94c-454e-4575-8c72-4471d7bc7e07",
   "metadata": {},
   "source": [
    "<div class=\"alert alert-block alert-info\">\n",
    "    <p>Let's setup the aws information</p>\n",
    "</div>"
   ]
  },
  {
   "cell_type": "code",
   "execution_count": 9,
   "id": "2b6cdc06-6b2c-4040-a4ef-d93bd9011cb1",
   "metadata": {},
   "outputs": [],
   "source": [
    "sc = spark.sparkContext._jsc.hadoopConfiguration()\n",
    "sc.set(\"fs.s3a.awsAccessKeyId\", credentials.access_key)\n",
    "sc.set(\"fs.s3a.awsSecretAccessKey\", credentials.secret_key)\n",
    "sc.set(\"fs.s3a.impl\",\"org.apache.hadoop.fs.s3a.S3AFileSystem\")\n",
    "sc.set(\"fs.s3a.impl\",\"org.apache.hadoop.fs.s3native.NativeS3FileSystem\")\n",
    "sc.set(\"com.amazonaws.services.s3.enableV4\", \"true\")\n",
    "sc.set(\"fs.s3a.aws.credentials.provider\",\"org.apache.hadoop.fs.s3a.BasicAWSCredentialsProvider\")\n",
    "sc.set(\"fs.s3a.endpoint\", region + \".amazonaws.com\")"
   ]
  },
  {
   "cell_type": "markdown",
   "id": "c5845142-d79e-4724-8186-33e193cc9f2a",
   "metadata": {
    "tags": []
   },
   "source": [
    "<div style=\"background-color: #506AB9;\" >\n",
    "    <h3 style=\"margin: auto; padding: 20px; color:#fff; \">3.1 Testing connection to S3 with Spark</h3>\n",
    "</div>"
   ]
  },
  {
   "cell_type": "markdown",
   "id": "0919981f-f214-4688-89d3-fa6a39ac1d01",
   "metadata": {},
   "source": [
    "<div class=\"alert alert-block alert-info\">\n",
    "    <p>Now, we are going to test the connection with Spark to our bucket. To do that, we are going to read a sample csv.</p>\n",
    "</div>"
   ]
  },
  {
   "cell_type": "code",
   "execution_count": 10,
   "id": "4bb52165-08b6-4d65-bc04-dec18c0b8966",
   "metadata": {},
   "outputs": [],
   "source": [
    "data_location = \"s3a://{}/{}\".format(BUCKET, DUMMY_FILE)"
   ]
  },
  {
   "cell_type": "code",
   "execution_count": 11,
   "id": "9999d5ab-99ae-41d5-8a69-5d65eb32d644",
   "metadata": {},
   "outputs": [
    {
     "name": "stderr",
     "output_type": "stream",
     "text": [
      "                                                                                \r"
     ]
    }
   ],
   "source": [
    "df_dummy = spark.read.csv(data_location, header=\"False\", inferSchema=True)\n",
    "df_dummy = df_dummy.drop(\"1\")"
   ]
  },
  {
   "cell_type": "code",
   "execution_count": 12,
   "id": "bb1e5488-97ca-44d9-8801-379d9893fc72",
   "metadata": {},
   "outputs": [
    {
     "data": {
      "text/html": [
       "<div>\n",
       "<style scoped>\n",
       "    .dataframe tbody tr th:only-of-type {\n",
       "        vertical-align: middle;\n",
       "    }\n",
       "\n",
       "    .dataframe tbody tr th {\n",
       "        vertical-align: top;\n",
       "    }\n",
       "\n",
       "    .dataframe thead th {\n",
       "        text-align: right;\n",
       "    }\n",
       "</style>\n",
       "<table border=\"1\" class=\"dataframe\">\n",
       "  <thead>\n",
       "    <tr style=\"text-align: right;\">\n",
       "      <th></th>\n",
       "      <th>_c0</th>\n",
       "      <th>_c1</th>\n",
       "      <th>_c2</th>\n",
       "      <th>_c3</th>\n",
       "      <th>_c4</th>\n",
       "      <th>_c5</th>\n",
       "      <th>_c6</th>\n",
       "      <th>_c7</th>\n",
       "      <th>_c8</th>\n",
       "      <th>_c9</th>\n",
       "    </tr>\n",
       "  </thead>\n",
       "  <tbody>\n",
       "    <tr>\n",
       "      <th>0</th>\n",
       "      <td>1</td>\n",
       "      <td>Eldon Base for stackable storage shelf, platinum</td>\n",
       "      <td>Muhammed MacIntyre</td>\n",
       "      <td>3</td>\n",
       "      <td>-213.25</td>\n",
       "      <td>38.94</td>\n",
       "      <td>35</td>\n",
       "      <td>Nunavut</td>\n",
       "      <td>Storage &amp; Organization</td>\n",
       "      <td>0.8</td>\n",
       "    </tr>\n",
       "    <tr>\n",
       "      <th>1</th>\n",
       "      <td>2</td>\n",
       "      <td>\"1.7 Cubic Foot Compact \"\"Cube\"\" Office Refrig...</td>\n",
       "      <td>Barry French</td>\n",
       "      <td>293</td>\n",
       "      <td>457.81</td>\n",
       "      <td>208.16</td>\n",
       "      <td>68.02</td>\n",
       "      <td>Nunavut</td>\n",
       "      <td>Appliances</td>\n",
       "      <td>0.58</td>\n",
       "    </tr>\n",
       "    <tr>\n",
       "      <th>2</th>\n",
       "      <td>3</td>\n",
       "      <td>Cardinal Slant-D� Ring Binder, Heavy Gauge Vinyl</td>\n",
       "      <td>Barry French</td>\n",
       "      <td>293</td>\n",
       "      <td>46.71</td>\n",
       "      <td>8.69</td>\n",
       "      <td>2.99</td>\n",
       "      <td>Nunavut</td>\n",
       "      <td>Binders and Binder Accessories</td>\n",
       "      <td>0.39</td>\n",
       "    </tr>\n",
       "    <tr>\n",
       "      <th>3</th>\n",
       "      <td>4</td>\n",
       "      <td>R380</td>\n",
       "      <td>Clay Rozendal</td>\n",
       "      <td>483</td>\n",
       "      <td>1198.97</td>\n",
       "      <td>195.99</td>\n",
       "      <td>3.99</td>\n",
       "      <td>Nunavut</td>\n",
       "      <td>Telephones and Communication</td>\n",
       "      <td>0.58</td>\n",
       "    </tr>\n",
       "    <tr>\n",
       "      <th>4</th>\n",
       "      <td>5</td>\n",
       "      <td>Holmes HEPA Air Purifier</td>\n",
       "      <td>Carlos Soltero</td>\n",
       "      <td>515</td>\n",
       "      <td>30.94</td>\n",
       "      <td>21.78</td>\n",
       "      <td>5.94</td>\n",
       "      <td>Nunavut</td>\n",
       "      <td>Appliances</td>\n",
       "      <td>0.5</td>\n",
       "    </tr>\n",
       "  </tbody>\n",
       "</table>\n",
       "</div>"
      ],
      "text/plain": [
       "   _c0                                                _c1                 _c2  \\\n",
       "0    1   Eldon Base for stackable storage shelf, platinum  Muhammed MacIntyre   \n",
       "1    2  \"1.7 Cubic Foot Compact \"\"Cube\"\" Office Refrig...        Barry French   \n",
       "2    3   Cardinal Slant-D� Ring Binder, Heavy Gauge Vinyl        Barry French   \n",
       "3    4                                               R380       Clay Rozendal   \n",
       "4    5                           Holmes HEPA Air Purifier      Carlos Soltero   \n",
       "\n",
       "   _c3      _c4     _c5    _c6      _c7                             _c8   _c9  \n",
       "0    3  -213.25   38.94     35  Nunavut          Storage & Organization   0.8  \n",
       "1  293   457.81  208.16  68.02  Nunavut                      Appliances  0.58  \n",
       "2  293    46.71    8.69   2.99  Nunavut  Binders and Binder Accessories  0.39  \n",
       "3  483  1198.97  195.99   3.99  Nunavut    Telephones and Communication  0.58  \n",
       "4  515    30.94   21.78   5.94  Nunavut                      Appliances   0.5  "
      ]
     },
     "execution_count": 12,
     "metadata": {},
     "output_type": "execute_result"
    }
   ],
   "source": [
    "df_dummy.limit(5).toPandas()"
   ]
  },
  {
   "cell_type": "code",
   "execution_count": 13,
   "id": "42c0cb6f-ff83-4c0c-8e7c-ba968797e47f",
   "metadata": {},
   "outputs": [
    {
     "name": "stdout",
     "output_type": "stream",
     "text": [
      "root\n",
      " |-- _c0: integer (nullable = true)\n",
      " |-- _c1: string (nullable = true)\n",
      " |-- _c2: string (nullable = true)\n",
      " |-- _c3: string (nullable = true)\n",
      " |-- _c4: string (nullable = true)\n",
      " |-- _c5: string (nullable = true)\n",
      " |-- _c6: string (nullable = true)\n",
      " |-- _c7: string (nullable = true)\n",
      " |-- _c8: string (nullable = true)\n",
      " |-- _c9: string (nullable = true)\n",
      "\n"
     ]
    }
   ],
   "source": [
    "df_dummy.printSchema()"
   ]
  },
  {
   "cell_type": "markdown",
   "id": "50b17fe7-bb9c-463c-87ff-e4c2e7a651d3",
   "metadata": {},
   "source": [
    "<div class=\"alert alert-block alert-success\">\n",
    "    <p>Great!, we can access to S3 from ours Notebook through Spark / Pyspark</p>\n",
    "</div>"
   ]
  },
  {
   "cell_type": "markdown",
   "id": "68288265-40fd-41df-8f63-10cae6f7bf7a",
   "metadata": {
    "tags": []
   },
   "source": [
    "<div style=\"background-color: #506AB9;\" >\n",
    "    <h3 style=\"margin: auto; padding: 20px; color:#fff; \">3.2 Testing reading an image from S3 through Spark</h3>\n",
    "</div>"
   ]
  },
  {
   "cell_type": "markdown",
   "id": "2cf94db0-d25b-4e77-a5d9-ca1da5ed8f1b",
   "metadata": {},
   "source": [
    "<div class=\"alert alert-block alert-info\">\n",
    "    <p>Now, let's try to read an image from the bucket</p>\n",
    "</div>"
   ]
  },
  {
   "cell_type": "code",
   "execution_count": 14,
   "id": "4db91606-9820-46e8-87b2-50f62f44208a",
   "metadata": {},
   "outputs": [],
   "source": [
    "image = spark.read.format(\"image\").load(\"s3a://{}/{}\".format(BUCKET, list(contents)[5][\"Key\"]))"
   ]
  },
  {
   "cell_type": "code",
   "execution_count": 15,
   "id": "1d97decd-5c22-4db0-b047-a4857b28b0d4",
   "metadata": {},
   "outputs": [
    {
     "name": "stdout",
     "output_type": "stream",
     "text": [
      "root\n",
      " |-- image: struct (nullable = true)\n",
      " |    |-- origin: string (nullable = true)\n",
      " |    |-- height: integer (nullable = true)\n",
      " |    |-- width: integer (nullable = true)\n",
      " |    |-- nChannels: integer (nullable = true)\n",
      " |    |-- mode: integer (nullable = true)\n",
      " |    |-- data: binary (nullable = true)\n",
      "\n"
     ]
    }
   ],
   "source": [
    "image.printSchema()"
   ]
  },
  {
   "cell_type": "code",
   "execution_count": 16,
   "id": "8120e0b0-eaef-4829-8caa-0926da4ff904",
   "metadata": {},
   "outputs": [
    {
     "name": "stdout",
     "output_type": "stream",
     "text": [
      "+--------------------+\n",
      "|               image|\n",
      "+--------------------+\n",
      "|[s3a://oc-p8-buck...|\n",
      "+--------------------+\n",
      "\n"
     ]
    }
   ],
   "source": [
    "image.show()"
   ]
  },
  {
   "cell_type": "code",
   "execution_count": 17,
   "id": "6f0ddfc3-b798-4699-a10a-a549dcaab3cf",
   "metadata": {},
   "outputs": [],
   "source": [
    "img = image.first()"
   ]
  },
  {
   "cell_type": "code",
   "execution_count": 18,
   "id": "bc39a762-e4c1-4ee1-bc0b-17f918d34d5d",
   "metadata": {},
   "outputs": [],
   "source": [
    "img = np.array(img.asDict()[\"image\"][\"data\"]).reshape(100, 100, 3)[:, :, ::-1]"
   ]
  },
  {
   "cell_type": "code",
   "execution_count": 19,
   "id": "bcc742ec-2380-48bf-a029-f276aa110c3c",
   "metadata": {},
   "outputs": [
    {
     "data": {
      "image/png": "[encoded data removed]",
      "text/plain": [
       "<PIL.Image.Image image mode=RGB size=100x100 at 0x7F3265A41970>"
      ]
     },
     "execution_count": 19,
     "metadata": {},
     "output_type": "execute_result"
    }
   ],
   "source": [
    "Image.fromarray(img, \"RGB\")"
   ]
  },
  {
   "cell_type": "markdown",
   "id": "3d7150bd-0430-4d87-840f-bfd1d93ab341",
   "metadata": {},
   "source": [
    "<div class=\"alert alert-block alert-success\">\n",
    "    <p>So far, We have access to an image. Let's go to read all images in the bucket.</p>\n",
    "</div>"
   ]
  },
  {
   "cell_type": "markdown",
   "id": "7f153ae0-e3a0-478a-8dfd-9b62ce784647",
   "metadata": {},
   "source": [
    "<div style=\"background-color: #506AB9;\" >\n",
    "    <h2 style=\"margin: auto; padding: 20px; color:#fff; \">3. Reading images with Spark</h2>\n",
    "</div>"
   ]
  },
  {
   "cell_type": "markdown",
   "id": "6ec70db5-6078-4ca9-8e70-a0b1f3ea0c74",
   "metadata": {},
   "source": [
    "<div class=\"alert alert-block alert-info\">\n",
    "    <p>To read the images, we will restrict the format only to *.jpg. In addition, we will read all subdirectories in the main directory.</p>\n",
    "</div>"
   ]
  },
  {
   "cell_type": "code",
   "execution_count": 20,
   "id": "d280ab80-7d11-41ef-90f0-2ab5af652eb2",
   "metadata": {},
   "outputs": [],
   "source": [
    "df_images = spark.read.format(\"binaryfile\")\\\n",
    "      .option(\"recursiveFileLookup\", \"true\")\\\n",
    "      .load(\"s3a://{}/{}/*\".format(BUCKET, SUBFOLDER))\n",
    "\n",
    "# df_images = spark.read.format(\"binaryfile\")\\\n",
    "#       .option(\"pathGlobFilter\", \"*.jpg\")\\\n",
    "#       .option(\"recursiveFileLookup\", \"true\")\\\n",
    "#       .load(\"s3a://{}/{}/*\".format(BUCKET, SUBFOLDER))"
   ]
  },
  {
   "cell_type": "code",
   "execution_count": 21,
   "id": "c2dc5606-278a-405a-84ed-b68e97072142",
   "metadata": {},
   "outputs": [
    {
     "name": "stdout",
     "output_type": "stream",
     "text": [
      "root\n",
      " |-- path: string (nullable = true)\n",
      " |-- modificationTime: timestamp (nullable = true)\n",
      " |-- length: long (nullable = true)\n",
      " |-- content: binary (nullable = true)\n",
      "\n"
     ]
    }
   ],
   "source": [
    "df_images.printSchema()"
   ]
  },
  {
   "cell_type": "code",
   "execution_count": 22,
   "id": "10effd8c-f7ed-4178-abeb-b65002355de8",
   "metadata": {},
   "outputs": [
    {
     "name": "stderr",
     "output_type": "stream",
     "text": [
      "                                                                                \r"
     ]
    },
    {
     "name": "stdout",
     "output_type": "stream",
     "text": [
      "+--------------------+-------------------+------+--------------------+\n",
      "|                path|   modificationTime|length|             content|\n",
      "+--------------------+-------------------+------+--------------------+\n",
      "|s3a://oc-p8-bucke...|2022-02-28 09:03:42|  7415|[FF D8 FF E0 00 1...|\n",
      "|s3a://oc-p8-bucke...|2022-02-28 09:03:41|  7314|[FF D8 FF E0 00 1...|\n",
      "|s3a://oc-p8-bucke...|2022-02-28 09:03:06|  7178|[FF D8 FF E0 00 1...|\n",
      "|s3a://oc-p8-bucke...|2022-02-28 09:03:40|  7089|[FF D8 FF E0 00 1...|\n",
      "|s3a://oc-p8-bucke...|2022-02-28 09:03:13|  6823|[FF D8 FF E0 00 1...|\n",
      "+--------------------+-------------------+------+--------------------+\n",
      "only showing top 5 rows\n",
      "\n"
     ]
    }
   ],
   "source": [
    "df_images.show(5)"
   ]
  },
  {
   "cell_type": "markdown",
   "id": "136de006-371c-41b5-966f-7a62f6793c2e",
   "metadata": {},
   "source": [
    "<div class=\"alert alert-block alert-info\">\n",
    "    <p>Let's just save the interested variables for each image.</p>\n",
    "</div>"
   ]
  },
  {
   "cell_type": "code",
   "execution_count": 23,
   "id": "44c92cd3-a68d-4143-ba17-4096ecb809e4",
   "metadata": {
    "tags": []
   },
   "outputs": [
    {
     "name": "stdout",
     "output_type": "stream",
     "text": [
      "root\n",
      " |-- path: string (nullable = true)\n",
      " |-- category: string (nullable = true)\n",
      " |-- content: binary (nullable = true)\n",
      "\n"
     ]
    }
   ],
   "source": [
    "df_images = df_images.withColumn(\"category\", split(col(\"path\"), \"/\").getItem(5))\n",
    "df_images = df_images.select(\"path\", \"category\", \"content\")\n",
    "df_images.printSchema()"
   ]
  },
  {
   "cell_type": "code",
   "execution_count": 24,
   "id": "1b5b0ebd-0536-41d0-920a-2e4f9f03a692",
   "metadata": {},
   "outputs": [
    {
     "name": "stdout",
     "output_type": "stream",
     "text": [
      "+--------------------+----------+--------------------+\n",
      "|                path|  category|             content|\n",
      "+--------------------+----------+--------------------+\n",
      "|s3a://oc-p8-bucke...| Raspberry|[FF D8 FF E0 00 1...|\n",
      "|s3a://oc-p8-bucke...| Raspberry|[FF D8 FF E0 00 1...|\n",
      "|s3a://oc-p8-bucke...| Raspberry|[FF D8 FF E0 00 1...|\n",
      "|s3a://oc-p8-bucke...| Raspberry|[FF D8 FF E0 00 1...|\n",
      "|s3a://oc-p8-bucke...|Watermelon|[FF D8 FF E0 00 1...|\n",
      "+--------------------+----------+--------------------+\n",
      "only showing top 5 rows\n",
      "\n"
     ]
    }
   ],
   "source": [
    "df_images.show(5)"
   ]
  },
  {
   "cell_type": "markdown",
   "id": "680e51a1-abfe-4f93-a5f1-eaaaddc22f4a",
   "metadata": {},
   "source": [
    "<div class=\"alert alert-block alert-success\">\n",
    "    <p>Now, we have only the interested variables of each image.</p>\n",
    "</div>"
   ]
  },
  {
   "cell_type": "markdown",
   "id": "9b660c7f-923e-46f8-bb1d-4af2f1f90653",
   "metadata": {
    "tags": []
   },
   "source": [
    "<div style=\"background-color: #506AB9;\" >\n",
    "    <h2 style=\"margin: auto; padding: 20px; color:#fff; \">4. Featurization for transfer learning</h2>\n",
    "</div>"
   ]
  },
  {
   "cell_type": "markdown",
   "id": "3289f32c-b2ee-4865-98eb-b3dfdfc91520",
   "metadata": {},
   "source": [
    "<div class=\"alert alert-block alert-info\">\n",
    "    <p>So far, we could read the images from out bucket (S3) through Spark.<br>\n",
    "    Now, we are going to extract the features based on a pre-trained TensorFlow model. <br>\n",
    "    To do that, We are going to base ourselves on the approach made by <a href=\"https://docs.databricks.com/applications/machine-learning/preprocess-data/transfer-learning-tensorflow.html\", target=\"blank\">Databricks</a></p>\n",
    "</div>"
   ]
  },
  {
   "cell_type": "code",
   "execution_count": 25,
   "id": "744643c2-eff3-4942-9cb0-39a626a53a8a",
   "metadata": {},
   "outputs": [
    {
     "name": "stderr",
     "output_type": "stream",
     "text": [
      "2022-03-06 18:58:06.882800: W tensorflow/stream_executor/platform/default/dso_loader.cc:64] Could not load dynamic library 'libcuda.so.1'; dlerror: libcuda.so.1: cannot open shared object file: No such file or directory\n",
      "2022-03-06 18:58:06.883631: W tensorflow/stream_executor/cuda/cuda_driver.cc:269] failed call to cuInit: UNKNOWN ERROR (303)\n",
      "2022-03-06 18:58:06.883670: I tensorflow/stream_executor/cuda/cuda_diagnostics.cc:156] kernel driver does not appear to be running on this host (ip-172-31-80-208): /proc/driver/nvidia/version does not exist\n",
      "2022-03-06 18:58:06.885284: I tensorflow/core/platform/cpu_feature_guard.cc:151] This TensorFlow binary is optimized with oneAPI Deep Neural Network Library (oneDNN) to use the following CPU instructions in performance-critical operations:  AVX2 FMA\n",
      "To enable them in other operations, rebuild TensorFlow with the appropriate compiler flags.\n"
     ]
    }
   ],
   "source": [
    "model = ResNet50(include_top=False)"
   ]
  },
  {
   "cell_type": "code",
   "execution_count": 26,
   "id": "7f954f27-aff2-467c-a3d7-100c302db378",
   "metadata": {},
   "outputs": [],
   "source": [
    "bc_model_weights = spark.sparkContext.broadcast(model.get_weights())"
   ]
  },
  {
   "cell_type": "code",
   "execution_count": 27,
   "id": "b62de48e-dcd3-4949-9340-412776df499d",
   "metadata": {},
   "outputs": [],
   "source": [
    "def model_fn():\n",
    "    \"\"\"\n",
    "    Returns a ResNet50 model with top layer removed and broadcasted pretrained weights.\n",
    "    \"\"\"\n",
    "    \n",
    "    model = ResNet50(weights=None, include_top=False)\n",
    "    model.set_weights(bc_model_weights.value)\n",
    "    \n",
    "    return model"
   ]
  },
  {
   "cell_type": "code",
   "execution_count": 28,
   "id": "f33a9ac4-8be0-4397-8fae-3ac9ca526708",
   "metadata": {},
   "outputs": [],
   "source": [
    "def preprocess(content):\n",
    "    \"\"\"\n",
    "    Preprocesses raw image bytes for prediction.\n",
    "    \"\"\"\n",
    "    \n",
    "    img = Image.open(io.BytesIO(content)).resize([224, 224])\n",
    "    arr = img_to_array(img)\n",
    "    \n",
    "    return preprocess_input(arr)"
   ]
  },
  {
   "cell_type": "code",
   "execution_count": 29,
   "id": "e20c5503-503e-485d-89d5-783970945d0f",
   "metadata": {},
   "outputs": [],
   "source": [
    "def featurize_series(model, content_series):\n",
    "    \"\"\"\n",
    "    Featurize a pd.Series of raw images using the input model.\n",
    "    :return: a pd.Series of image features\n",
    "    \"\"\"\n",
    "    \n",
    "    input = np.stack(content_series.map(preprocess))\n",
    "    preds = model.predict(input)\n",
    "    \n",
    "    # For some layers, output features will be multi-dimensional tensors.\n",
    "    # We flatten the feature tensors to vectors for easier storage in Spark DataFrames.\n",
    "    output = [p.flatten() for p in preds]\n",
    "    \n",
    "    return pd.Series(output)"
   ]
  },
  {
   "cell_type": "code",
   "execution_count": 30,
   "id": "395def55-d28d-49ac-85ab-230bcbc1a38c",
   "metadata": {},
   "outputs": [
    {
     "name": "stderr",
     "output_type": "stream",
     "text": [
      "/opt/spark/python/pyspark/sql/pandas/functions.py:383: UserWarning: In Python 3.6+ and Spark 3.0+, it is preferred to specify type hints for pandas UDF instead of specifying pandas UDF type which will be deprecated in the future releases. See SPARK-28264 for more details.\n",
      "  warnings.warn(\n"
     ]
    }
   ],
   "source": [
    "@pandas_udf('array<float>', PandasUDFType.SCALAR_ITER)\n",
    "def featurize_udf(content_series_iter):\n",
    "    \"\"\"\n",
    "    This method is a Scalar Iterator pandas UDF wrapping our featurization function.\n",
    "    The decorator specifies that this returns a Spark DataFrame column of type ArrayType(FloatType).\n",
    "    \n",
    "    :param content_series_iter: This argument is an iterator over batches of data, where each batch\n",
    "                                is a pandas Series of image data.\n",
    "    \"\"\"\n",
    "    \n",
    "    # With Scalar Iterator pandas UDFs, we can load the model once and then re-use it\n",
    "    # for multiple data batches.  This amortizes the overhead of loading big models.\n",
    "    model = model_fn()\n",
    "    for content_series in content_series_iter:\n",
    "        yield featurize_series(model, content_series)"
   ]
  },
  {
   "cell_type": "code",
   "execution_count": 31,
   "id": "63700ba1-5cf9-49f1-ab31-0ddcde293a10",
   "metadata": {},
   "outputs": [],
   "source": [
    "# Pandas UDFs on large records (e.g., very large images) can run into Out Of Memory (OOM) errors.\n",
    "# If you hit such errors in the cell below, try reducing the Arrow batch size via `maxRecordsPerBatch`.\n",
    "# spark.conf.set(\"spark.sql.execution.arrow.maxRecordsPerBatch\", \"1024\")"
   ]
  },
  {
   "cell_type": "code",
   "execution_count": 32,
   "id": "64ded264-4c7b-4b56-9938-1046153ad2d2",
   "metadata": {},
   "outputs": [
    {
     "name": "stdout",
     "output_type": "stream",
     "text": [
      "root\n",
      " |-- path: string (nullable = true)\n",
      " |-- category: string (nullable = true)\n",
      " |-- features: array (nullable = true)\n",
      " |    |-- element: float (containsNull = true)\n",
      "\n"
     ]
    },
    {
     "name": "stderr",
     "output_type": "stream",
     "text": [
      "2022-03-06 18:58:17.246211: W tensorflow/stream_executor/platform/default/dso_loader.cc:64] Could not load dynamic library 'libcudart.so.11.0'; dlerror: libcudart.so.11.0: cannot open shared object file: No such file or directory\n",
      "2022-03-06 18:58:17.246253: I tensorflow/stream_executor/cuda/cudart_stub.cc:29] Ignore above cudart dlerror if you do not have a GPU set up on your machine.\n",
      "2022-03-06 18:58:19.195825: W tensorflow/stream_executor/platform/default/dso_loader.cc:64] Could not load dynamic library 'libcuda.so.1'; dlerror: libcuda.so.1: cannot open shared object file: No such file or directory\n",
      "2022-03-06 18:58:19.195868: W tensorflow/stream_executor/cuda/cuda_driver.cc:269] failed call to cuInit: UNKNOWN ERROR (303)\n",
      "2022-03-06 18:58:19.195894: I tensorflow/stream_executor/cuda/cuda_diagnostics.cc:156] kernel driver does not appear to be running on this host (ip-172-31-80-208): /proc/driver/nvidia/version does not exist\n",
      "2022-03-06 18:58:19.196114: I tensorflow/core/platform/cpu_feature_guard.cc:151] This TensorFlow binary is optimized with oneAPI Deep Neural Network Library (oneDNN) to use the following CPU instructions in performance-critical operations:  AVX2 FMA\n",
      "To enable them in other operations, rebuild TensorFlow with the appropriate compiler flags.\n",
      "2022-03-06 18:58:23.171754: W tensorflow/stream_executor/platform/default/dso_loader.cc:64] Could not load dynamic library 'libcudart.so.11.0'; dlerror: libcudart.so.11.0: cannot open shared object file: No such file or directory\n",
      "2022-03-06 18:58:23.172384: I tensorflow/stream_executor/cuda/cudart_stub.cc:29] Ignore above cudart dlerror if you do not have a GPU set up on your machine.\n",
      "2022-03-06 18:58:25.400129: W tensorflow/stream_executor/platform/default/dso_loader.cc:64] Could not load dynamic library 'libcuda.so.1'; dlerror: libcuda.so.1: cannot open shared object file: No such file or directory\n",
      "2022-03-06 18:58:25.400720: W tensorflow/stream_executor/cuda/cuda_driver.cc:269] failed call to cuInit: UNKNOWN ERROR (303)\n",
      "2022-03-06 18:58:25.401038: I tensorflow/stream_executor/cuda/cuda_diagnostics.cc:156] kernel driver does not appear to be running on this host (ip-172-31-80-208): /proc/driver/nvidia/version does not exist\n",
      "2022-03-06 18:58:25.401526: I tensorflow/core/platform/cpu_feature_guard.cc:151] This TensorFlow binary is optimized with oneAPI Deep Neural Network Library (oneDNN) to use the following CPU instructions in performance-critical operations:  AVX2 FMA\n",
      "To enable them in other operations, rebuild TensorFlow with the appropriate compiler flags.\n",
      "[Stage 10:===========================================>              (3 + 1) / 4]\r"
     ]
    },
    {
     "name": "stdout",
     "output_type": "stream",
     "text": [
      "+--------------------+----------+--------------------+\n",
      "|                path|  category|            features|\n",
      "+--------------------+----------+--------------------+\n",
      "|s3a://oc-p8-bucke...| Raspberry|[0.0, 0.0, 0.0, 0...|\n",
      "|s3a://oc-p8-bucke...|      Kiwi|[0.0, 0.0, 0.0, 0...|\n",
      "|s3a://oc-p8-bucke...|  Maracuja|[0.0, 0.0, 0.0, 0...|\n",
      "|s3a://oc-p8-bucke...|  Maracuja|[0.0, 0.0, 0.0, 0...|\n",
      "|s3a://oc-p8-bucke...|     Lemon|[0.0, 0.0, 0.0, 0...|\n",
      "|s3a://oc-p8-bucke...|     Lemon|[0.0, 0.0, 0.0, 0...|\n",
      "|s3a://oc-p8-bucke...|      Kiwi|[0.0, 0.0, 0.0, 0...|\n",
      "|s3a://oc-p8-bucke...|Watermelon|[0.0, 0.0, 0.0, 0...|\n",
      "|s3a://oc-p8-bucke...|     Lemon|[0.0, 0.0, 0.0, 0...|\n",
      "|s3a://oc-p8-bucke...|   Avocado|[0.0, 0.0, 0.0, 0...|\n",
      "|s3a://oc-p8-bucke...|    Banana|[0.0, 0.0, 0.0, 0...|\n",
      "|s3a://oc-p8-bucke...|    Banana|[0.0, 0.0, 0.0, 0...|\n",
      "|s3a://oc-p8-bucke...| Raspberry|[0.0, 0.0, 0.0, 0...|\n",
      "|s3a://oc-p8-bucke...| Raspberry|[0.0, 0.0, 0.0, 0...|\n",
      "|s3a://oc-p8-bucke...|   Apricot|[0.0, 0.0, 0.0, 0...|\n",
      "|s3a://oc-p8-bucke...|   Apricot|[0.0, 0.0, 0.0, 0...|\n",
      "|s3a://oc-p8-bucke...|     Lemon|[0.0, 0.0, 0.0, 0...|\n",
      "|s3a://oc-p8-bucke...|   Apricot|[0.0, 0.0, 0.0, 0...|\n",
      "|s3a://oc-p8-bucke...|Watermelon|[0.0, 0.0, 0.0, 0...|\n",
      "|s3a://oc-p8-bucke...|Watermelon|[0.0, 0.0, 0.0, 0...|\n",
      "+--------------------+----------+--------------------+\n",
      "only showing top 20 rows\n",
      "\n"
     ]
    },
    {
     "name": "stderr",
     "output_type": "stream",
     "text": [
      "                                                                                \r"
     ]
    }
   ],
   "source": [
    "df_features = df_images.repartition(16).select(col(\"path\"), col(\"category\"), featurize_udf(\"content\").alias(\"features\"))\n",
    "# df_features = df_images.select(col(\"path\"), col(\"category\"))\n",
    "df_features.printSchema()\n",
    "df_features.show()"
   ]
  },
  {
   "cell_type": "markdown",
   "id": "96e3e77a-7eb8-4803-8d17-50924385452d",
   "metadata": {},
   "source": [
    "<div class=\"alert alert-block alert-success\">\n",
    "    <p>We have achieved to make the feature extraction.</p>\n",
    "</div>"
   ]
  },
  {
   "cell_type": "markdown",
   "id": "c0d9fe9f-8a20-4946-b0f1-a65103e451cd",
   "metadata": {
    "tags": []
   },
   "source": [
    "<div style=\"background-color: #506AB9;\" >\n",
    "    <h2 style=\"margin: auto; padding: 20px; color:#fff; \">5. PCA - Principal Components Analysis</h2>\n",
    "</div>"
   ]
  },
  {
   "cell_type": "code",
   "execution_count": 33,
   "id": "dd296ac0-e465-4254-9a6f-285a2648433c",
   "metadata": {},
   "outputs": [],
   "source": [
    "to_vector = udf(lambda x: Vectors.dense(x), VectorUDT())\n",
    "df_features = df_features.select(col(\"path\"),  col(\"category\"), to_vector(df_features[\"features\"]).alias(\"features\"))"
   ]
  },
  {
   "cell_type": "code",
   "execution_count": 34,
   "id": "9247737d-4959-454f-a3b9-480b2eb47449",
   "metadata": {},
   "outputs": [],
   "source": [
    "pca = PCA(k=7, inputCol=\"features\", outputCol=\"pca_features\")"
   ]
  },
  {
   "cell_type": "code",
   "execution_count": 35,
   "id": "bfd79d9d-374c-4f6d-80b7-b3451c408108",
   "metadata": {},
   "outputs": [
    {
     "name": "stderr",
     "output_type": "stream",
     "text": [
      "2022-03-06 18:58:54.497155: W tensorflow/stream_executor/platform/default/dso_loader.cc:64] Could not load dynamic library 'libcudart.so.11.0'; dlerror: libcudart.so.11.0: cannot open shared object file: No such file or directory\n",
      "2022-03-06 18:58:54.500086: I tensorflow/stream_executor/cuda/cudart_stub.cc:29] Ignore above cudart dlerror if you do not have a GPU set up on your machine.\n",
      "WARNING:tensorflow:5 out of the last 5 calls to <function Model.make_predict_function.<locals>.predict_function at 0x7f89763c6790> triggered tf.function retracing. Tracing is expensive and the excessive number of tracings could be due to (1) creating @tf.function repeatedly in a loop, (2) passing tensors with different shapes, (3) passing Python objects instead of tensors. For (1), please define your @tf.function outside of the loop. For (2), @tf.function has experimental_relax_shapes=True option that relaxes argument shapes that can avoid unnecessary retracing. For (3), please refer to https://www.tensorflow.org/guide/function#controlling_retracing and https://www.tensorflow.org/api_docs/python/tf/function for  more details.\n",
      "2022-03-06 18:58:58.538524: W tensorflow/stream_executor/platform/default/dso_loader.cc:64] Could not load dynamic library 'libcuda.so.1'; dlerror: libcuda.so.1: cannot open shared object file: No such file or directory\n",
      "2022-03-06 18:58:58.538580: W tensorflow/stream_executor/cuda/cuda_driver.cc:269] failed call to cuInit: UNKNOWN ERROR (303)\n",
      "2022-03-06 18:58:58.538611: I tensorflow/stream_executor/cuda/cuda_diagnostics.cc:156] kernel driver does not appear to be running on this host (ip-172-31-80-208): /proc/driver/nvidia/version does not exist\n",
      "2022-03-06 18:58:58.538825: I tensorflow/core/platform/cpu_feature_guard.cc:151] This TensorFlow binary is optimized with oneAPI Deep Neural Network Library (oneDNN) to use the following CPU instructions in performance-critical operations:  AVX2 FMA\n",
      "To enable them in other operations, rebuild TensorFlow with the appropriate compiler flags.\n",
      "WARNING:tensorflow:6 out of the last 6 calls to <function Model.make_predict_function.<locals>.predict_function at 0x7f89763c6790> triggered tf.function retracing. Tracing is expensive and the excessive number of tracings could be due to (1) creating @tf.function repeatedly in a loop, (2) passing tensors with different shapes, (3) passing Python objects instead of tensors. For (1), please define your @tf.function outside of the loop. For (2), @tf.function has experimental_relax_shapes=True option that relaxes argument shapes that can avoid unnecessary retracing. For (3), please refer to https://www.tensorflow.org/guide/function#controlling_retracing and https://www.tensorflow.org/api_docs/python/tf/function for  more details.\n",
      "2022-03-06 18:59:03.996334: W tensorflow/stream_executor/platform/default/dso_loader.cc:64] Could not load dynamic library 'libcudart.so.11.0'; dlerror: libcudart.so.11.0: cannot open shared object file: No such file or directory\n",
      "2022-03-06 18:59:03.996433: I tensorflow/stream_executor/cuda/cudart_stub.cc:29] Ignore above cudart dlerror if you do not have a GPU set up on your machine.\n",
      "2022-03-06 18:59:10.069117: W tensorflow/stream_executor/platform/default/dso_loader.cc:64] Could not load dynamic library 'libcuda.so.1'; dlerror: libcuda.so.1: cannot open shared object file: No such file or directory\n",
      "2022-03-06 18:59:10.069270: W tensorflow/stream_executor/cuda/cuda_driver.cc:269] failed call to cuInit: UNKNOWN ERROR (303)\n",
      "2022-03-06 18:59:10.069322: I tensorflow/stream_executor/cuda/cuda_diagnostics.cc:156] kernel driver does not appear to be running on this host (ip-172-31-80-208): /proc/driver/nvidia/version does not exist\n",
      "2022-03-06 18:59:10.069561: I tensorflow/core/platform/cpu_feature_guard.cc:151] This TensorFlow binary is optimized with oneAPI Deep Neural Network Library (oneDNN) to use the following CPU instructions in performance-critical operations:  AVX2 FMA\n",
      "To enable them in other operations, rebuild TensorFlow with the appropriate compiler flags.\n",
      "2022-03-06 18:59:13.955887: W tensorflow/core/framework/cpu_allocator_impl.cc:82] Allocation of 19267584 exceeds 10% of free system memory.\n",
      "2022-03-06 18:59:14.082011: W tensorflow/core/framework/cpu_allocator_impl.cc:82] Allocation of 19267584 exceeds 10% of free system memory.\n",
      "2022-03-06 18:59:14.104928: W tensorflow/core/framework/cpu_allocator_impl.cc:82] Allocation of 19961856 exceeds 10% of free system memory.\n",
      "2022-03-06 18:59:14.124248: W tensorflow/core/framework/cpu_allocator_impl.cc:82] Allocation of 19267584 exceeds 10% of free system memory.\n",
      "2022-03-06 18:59:14.149771: W tensorflow/core/framework/cpu_allocator_impl.cc:82] Allocation of 19267584 exceeds 10% of free system memory.\n",
      "2022-03-06 18:59:19.165330: W tensorflow/stream_executor/platform/default/dso_loader.cc:64] Could not load dynamic library 'libcudart.so.11.0'; dlerror: libcudart.so.11.0: cannot open shared object file: No such file or directory\n",
      "2022-03-06 18:59:19.166479: I tensorflow/stream_executor/cuda/cudart_stub.cc:29] Ignore above cudart dlerror if you do not have a GPU set up on your machine.\n",
      "2022-03-06 18:59:27.018810: W tensorflow/stream_executor/platform/default/dso_loader.cc:64] Could not load dynamic library 'libcuda.so.1'; dlerror: libcuda.so.1: cannot open shared object file: No such file or directory\n",
      "2022-03-06 18:59:27.021646: W tensorflow/stream_executor/cuda/cuda_driver.cc:269] failed call to cuInit: UNKNOWN ERROR (303)\n",
      "2022-03-06 18:59:27.021899: I tensorflow/stream_executor/cuda/cuda_diagnostics.cc:156] kernel driver does not appear to be running on this host (ip-172-31-80-208): /proc/driver/nvidia/version does not exist\n",
      "2022-03-06 18:59:27.023483: I tensorflow/core/platform/cpu_feature_guard.cc:151] This TensorFlow binary is optimized with oneAPI Deep Neural Network Library (oneDNN) to use the following CPU instructions in performance-critical operations:  AVX2 FMA\n",
      "To enable them in other operations, rebuild TensorFlow with the appropriate compiler flags.\n",
      "2022-03-06 18:59:31.221398: W tensorflow/core/framework/cpu_allocator_impl.cc:82] Allocation of 19267584 exceeds 10% of free system memory.\n",
      "2022-03-06 18:59:31.340272: W tensorflow/core/framework/cpu_allocator_impl.cc:82] Allocation of 19267584 exceeds 10% of free system memory.\n",
      "2022-03-06 18:59:31.367907: W tensorflow/core/framework/cpu_allocator_impl.cc:82] Allocation of 19961856 exceeds 10% of free system memory.\n",
      "2022-03-06 18:59:31.398796: W tensorflow/core/framework/cpu_allocator_impl.cc:82] Allocation of 19267584 exceeds 10% of free system memory.\n",
      "2022-03-06 18:59:31.436641: W tensorflow/core/framework/cpu_allocator_impl.cc:82] Allocation of 19267584 exceeds 10% of free system memory.\n",
      "WARNING:tensorflow:5 out of the last 5 calls to <function Model.make_predict_function.<locals>.predict_function at 0x7f89902ad820> triggered tf.function retracing. Tracing is expensive and the excessive number of tracings could be due to (1) creating @tf.function repeatedly in a loop, (2) passing tensors with different shapes, (3) passing Python objects instead of tensors. For (1), please define your @tf.function outside of the loop. For (2), @tf.function has experimental_relax_shapes=True option that relaxes argument shapes that can avoid unnecessary retracing. For (3), please refer to https://www.tensorflow.org/guide/function#controlling_retracing and https://www.tensorflow.org/api_docs/python/tf/function for  more details.\n",
      "WARNING:tensorflow:6 out of the last 6 calls to <function Model.make_predict_function.<locals>.predict_function at 0x7f89902ad820> triggered tf.function retracing. Tracing is expensive and the excessive number of tracings could be due to (1) creating @tf.function repeatedly in a loop, (2) passing tensors with different shapes, (3) passing Python objects instead of tensors. For (1), please define your @tf.function outside of the loop. For (2), @tf.function has experimental_relax_shapes=True option that relaxes argument shapes that can avoid unnecessary retracing. For (3), please refer to https://www.tensorflow.org/guide/function#controlling_retracing and https://www.tensorflow.org/api_docs/python/tf/function for  more details.\n",
      "22/03/06 18:59:47 WARN BLAS: Failed to load implementation from: com.github.fommil.netlib.NativeSystemBLAS\n",
      "22/03/06 18:59:47 WARN BLAS: Failed to load implementation from: com.github.fommil.netlib.NativeRefBLAS\n",
      "22/03/06 18:59:47 WARN RowMatrix: The input data is not directly cached, which may hurt performance if its parent RDDs are also uncached.\n",
      "22/03/06 18:59:47 WARN ARPACK: Failed to load implementation from: com.github.fommil.netlib.NativeSystemARPACK\n",
      "22/03/06 18:59:47 WARN ARPACK: Failed to load implementation from: com.github.fommil.netlib.NativeRefARPACK\n",
      "22/03/06 18:59:48 WARN DAGScheduler: Broadcasting large task binary with size 2.3 MiB\n",
      "WARNING:tensorflow:5 out of the last 5 calls to <function Model.make_predict_function.<locals>.predict_function at 0x7f898b112310> triggered tf.function retracing. Tracing is expensive and the excessive number of tracings could be due to (1) creating @tf.function repeatedly in a loop, (2) passing tensors with different shapes, (3) passing Python objects instead of tensors. For (1), please define your @tf.function outside of the loop. For (2), @tf.function has experimental_relax_shapes=True option that relaxes argument shapes that can avoid unnecessary retracing. For (3), please refer to https://www.tensorflow.org/guide/function#controlling_retracing and https://www.tensorflow.org/api_docs/python/tf/function for  more details.\n",
      "WARNING:tensorflow:6 out of the last 6 calls to <function Model.make_predict_function.<locals>.predict_function at 0x7f898b492280> triggered tf.function retracing. Tracing is expensive and the excessive number of tracings could be due to (1) creating @tf.function repeatedly in a loop, (2) passing tensors with different shapes, (3) passing Python objects instead of tensors. For (1), please define your @tf.function outside of the loop. For (2), @tf.function has experimental_relax_shapes=True option that relaxes argument shapes that can avoid unnecessary retracing. For (3), please refer to https://www.tensorflow.org/guide/function#controlling_retracing and https://www.tensorflow.org/api_docs/python/tf/function for  more details.\n",
      "WARNING:tensorflow:5 out of the last 5 calls to <function Model.make_predict_function.<locals>.predict_function at 0x7f89902ad820> triggered tf.function retracing. Tracing is expensive and the excessive number of tracings could be due to (1) creating @tf.function repeatedly in a loop, (2) passing tensors with different shapes, (3) passing Python objects instead of tensors. For (1), please define your @tf.function outside of the loop. For (2), @tf.function has experimental_relax_shapes=True option that relaxes argument shapes that can avoid unnecessary retracing. For (3), please refer to https://www.tensorflow.org/guide/function#controlling_retracing and https://www.tensorflow.org/api_docs/python/tf/function for  more details.\n",
      "WARNING:tensorflow:6 out of the last 6 calls to <function Model.make_predict_function.<locals>.predict_function at 0x7f89902ad820> triggered tf.function retracing. Tracing is expensive and the excessive number of tracings could be due to (1) creating @tf.function repeatedly in a loop, (2) passing tensors with different shapes, (3) passing Python objects instead of tensors. For (1), please define your @tf.function outside of the loop. For (2), @tf.function has experimental_relax_shapes=True option that relaxes argument shapes that can avoid unnecessary retracing. For (3), please refer to https://www.tensorflow.org/guide/function#controlling_retracing and https://www.tensorflow.org/api_docs/python/tf/function for  more details.\n",
      "2022-03-06 19:00:20.320667: W tensorflow/stream_executor/platform/default/dso_loader.cc:64] Could not load dynamic library 'libcudart.so.11.0'; dlerror: libcudart.so.11.0: cannot open shared object file: No such file or directory\n",
      "2022-03-06 19:00:20.323903: I tensorflow/stream_executor/cuda/cudart_stub.cc:29] Ignore above cudart dlerror if you do not have a GPU set up on your machine.\n",
      "2022-03-06 19:00:28.149115: W tensorflow/stream_executor/platform/default/dso_loader.cc:64] Could not load dynamic library 'libcuda.so.1'; dlerror: libcuda.so.1: cannot open shared object file: No such file or directory\n",
      "2022-03-06 19:00:28.149622: W tensorflow/stream_executor/cuda/cuda_driver.cc:269] failed call to cuInit: UNKNOWN ERROR (303)\n",
      "2022-03-06 19:00:28.150471: I tensorflow/stream_executor/cuda/cuda_diagnostics.cc:156] kernel driver does not appear to be running on this host (ip-172-31-80-208): /proc/driver/nvidia/version does not exist\n",
      "2022-03-06 19:00:28.151487: I tensorflow/core/platform/cpu_feature_guard.cc:151] This TensorFlow binary is optimized with oneAPI Deep Neural Network Library (oneDNN) to use the following CPU instructions in performance-critical operations:  AVX2 FMA\n",
      "To enable them in other operations, rebuild TensorFlow with the appropriate compiler flags.\n",
      "2022-03-06 19:00:32.213886: W tensorflow/core/framework/cpu_allocator_impl.cc:82] Allocation of 19267584 exceeds 10% of free system memory.\n",
      "2022-03-06 19:00:32.409640: W tensorflow/core/framework/cpu_allocator_impl.cc:82] Allocation of 19267584 exceeds 10% of free system memory.\n",
      "2022-03-06 19:00:32.442250: W tensorflow/core/framework/cpu_allocator_impl.cc:82] Allocation of 19961856 exceeds 10% of free system memory.\n",
      "2022-03-06 19:00:32.474785: W tensorflow/core/framework/cpu_allocator_impl.cc:82] Allocation of 19267584 exceeds 10% of free system memory.\n",
      "2022-03-06 19:00:32.628013: W tensorflow/core/framework/cpu_allocator_impl.cc:82] Allocation of 19267584 exceeds 10% of free system memory.\n",
      "22/03/06 19:00:37 WARN DAGScheduler: Broadcasting large task binary with size 3.1 MiB\n",
      "22/03/06 19:00:38 WARN DAGScheduler: Broadcasting large task binary with size 2.3 MiB\n",
      "WARNING:tensorflow:5 out of the last 5 calls to <function Model.make_predict_function.<locals>.predict_function at 0x7f89902a1820> triggered tf.function retracing. Tracing is expensive and the excessive number of tracings could be due to (1) creating @tf.function repeatedly in a loop, (2) passing tensors with different shapes, (3) passing Python objects instead of tensors. For (1), please define your @tf.function outside of the loop. For (2), @tf.function has experimental_relax_shapes=True option that relaxes argument shapes that can avoid unnecessary retracing. For (3), please refer to https://www.tensorflow.org/guide/function#controlling_retracing and https://www.tensorflow.org/api_docs/python/tf/function for  more details.\n",
      "WARNING:tensorflow:6 out of the last 6 calls to <function Model.make_predict_function.<locals>.predict_function at 0x7f89902a1820> triggered tf.function retracing. Tracing is expensive and the excessive number of tracings could be due to (1) creating @tf.function repeatedly in a loop, (2) passing tensors with different shapes, (3) passing Python objects instead of tensors. For (1), please define your @tf.function outside of the loop. For (2), @tf.function has experimental_relax_shapes=True option that relaxes argument shapes that can avoid unnecessary retracing. For (3), please refer to https://www.tensorflow.org/guide/function#controlling_retracing and https://www.tensorflow.org/api_docs/python/tf/function for  more details.\n",
      "22/03/06 19:01:30 WARN DAGScheduler: Broadcasting large task binary with size 3.1 MiB\n",
      "22/03/06 19:01:30 WARN DAGScheduler: Broadcasting large task binary with size 2.3 MiB\n",
      "22/03/06 19:02:12 WARN DAGScheduler: Broadcasting large task binary with size 3.1 MiB\n",
      "22/03/06 19:02:12 WARN DAGScheduler: Broadcasting large task binary with size 2.3 MiB\n",
      "22/03/06 19:02:52 WARN DAGScheduler: Broadcasting large task binary with size 3.1 MiB\n",
      "22/03/06 19:02:52 WARN DAGScheduler: Broadcasting large task binary with size 2.3 MiB\n",
      "22/03/06 19:03:29 WARN DAGScheduler: Broadcasting large task binary with size 3.1 MiB\n",
      "22/03/06 19:03:29 WARN DAGScheduler: Broadcasting large task binary with size 2.3 MiB\n",
      "22/03/06 19:04:08 WARN DAGScheduler: Broadcasting large task binary with size 3.1 MiB\n",
      "22/03/06 19:04:08 WARN DAGScheduler: Broadcasting large task binary with size 2.3 MiB\n",
      "22/03/06 19:04:48 WARN DAGScheduler: Broadcasting large task binary with size 3.1 MiB\n",
      "22/03/06 19:04:48 WARN DAGScheduler: Broadcasting large task binary with size 2.3 MiB\n",
      "22/03/06 19:05:23 WARN DAGScheduler: Broadcasting large task binary with size 3.1 MiB\n",
      "22/03/06 19:05:24 WARN DAGScheduler: Broadcasting large task binary with size 2.3 MiB\n",
      "22/03/06 19:06:03 WARN DAGScheduler: Broadcasting large task binary with size 3.1 MiB\n",
      "22/03/06 19:06:03 WARN DAGScheduler: Broadcasting large task binary with size 2.3 MiB\n",
      "22/03/06 19:06:42 WARN DAGScheduler: Broadcasting large task binary with size 3.1 MiB\n",
      "22/03/06 19:06:43 WARN DAGScheduler: Broadcasting large task binary with size 2.3 MiB\n",
      "22/03/06 19:07:21 WARN DAGScheduler: Broadcasting large task binary with size 3.1 MiB\n",
      "22/03/06 19:07:21 WARN DAGScheduler: Broadcasting large task binary with size 2.3 MiB\n",
      "22/03/06 19:08:03 WARN DAGScheduler: Broadcasting large task binary with size 3.1 MiB\n",
      "22/03/06 19:08:03 WARN DAGScheduler: Broadcasting large task binary with size 2.3 MiB\n",
      "22/03/06 19:08:56 WARN DAGScheduler: Broadcasting large task binary with size 3.1 MiB\n",
      "22/03/06 19:08:57 WARN DAGScheduler: Broadcasting large task binary with size 2.3 MiB\n",
      "22/03/06 19:09:34 WARN DAGScheduler: Broadcasting large task binary with size 3.1 MiB\n",
      "22/03/06 19:09:35 WARN DAGScheduler: Broadcasting large task binary with size 2.3 MiB\n",
      "22/03/06 19:10:11 WARN DAGScheduler: Broadcasting large task binary with size 3.1 MiB\n",
      "22/03/06 19:10:11 WARN DAGScheduler: Broadcasting large task binary with size 2.3 MiB\n",
      "22/03/06 19:10:47 WARN DAGScheduler: Broadcasting large task binary with size 3.1 MiB\n",
      "22/03/06 19:10:47 WARN DAGScheduler: Broadcasting large task binary with size 2.3 MiB\n",
      "22/03/06 19:11:23 WARN DAGScheduler: Broadcasting large task binary with size 3.1 MiB\n",
      "22/03/06 19:11:23 WARN DAGScheduler: Broadcasting large task binary with size 2.3 MiB\n",
      "22/03/06 19:11:57 WARN DAGScheduler: Broadcasting large task binary with size 3.1 MiB\n",
      "22/03/06 19:11:57 WARN DAGScheduler: Broadcasting large task binary with size 2.3 MiB\n",
      "22/03/06 19:12:34 WARN DAGScheduler: Broadcasting large task binary with size 3.1 MiB\n",
      "22/03/06 19:12:34 WARN DAGScheduler: Broadcasting large task binary with size 2.3 MiB\n",
      "22/03/06 19:13:39 WARN DAGScheduler: Broadcasting large task binary with size 3.1 MiB\n",
      "22/03/06 19:13:39 WARN DAGScheduler: Broadcasting large task binary with size 2.3 MiB\n",
      "22/03/06 19:14:35 WARN DAGScheduler: Broadcasting large task binary with size 3.1 MiB\n",
      "22/03/06 19:14:35 WARN DAGScheduler: Broadcasting large task binary with size 2.3 MiB\n",
      "22/03/06 19:15:31 WARN DAGScheduler: Broadcasting large task binary with size 3.1 MiB\n",
      "22/03/06 19:15:32 WARN DAGScheduler: Broadcasting large task binary with size 2.3 MiB\n",
      "22/03/06 19:16:29 WARN DAGScheduler: Broadcasting large task binary with size 3.1 MiB\n",
      "22/03/06 19:16:30 WARN DAGScheduler: Broadcasting large task binary with size 2.3 MiB\n",
      "22/03/06 19:17:52 WARN DAGScheduler: Broadcasting large task binary with size 3.1 MiB\n",
      "22/03/06 19:17:53 WARN DAGScheduler: Broadcasting large task binary with size 2.3 MiB\n",
      "22/03/06 19:19:23 WARN DAGScheduler: Broadcasting large task binary with size 3.1 MiB\n",
      "22/03/06 19:19:24 WARN DAGScheduler: Broadcasting large task binary with size 2.3 MiB\n",
      "22/03/06 19:20:53 WARN DAGScheduler: Broadcasting large task binary with size 3.1 MiB\n",
      "22/03/06 19:20:55 WARN DAGScheduler: Broadcasting large task binary with size 2.3 MiB\n",
      "22/03/06 19:22:11 WARN DAGScheduler: Broadcasting large task binary with size 3.1 MiB\n",
      "22/03/06 19:22:12 WARN DAGScheduler: Broadcasting large task binary with size 2.3 MiB\n",
      "22/03/06 19:23:51 WARN DAGScheduler: Broadcasting large task binary with size 3.1 MiB\n",
      "22/03/06 19:23:52 WARN DAGScheduler: Broadcasting large task binary with size 2.3 MiB\n",
      "22/03/06 19:25:26 WARN DAGScheduler: Broadcasting large task binary with size 3.1 MiB\n",
      "22/03/06 19:25:27 WARN DAGScheduler: Broadcasting large task binary with size 2.3 MiB\n",
      "22/03/06 19:26:38 WARN DAGScheduler: Broadcasting large task binary with size 3.1 MiB\n",
      "22/03/06 19:26:39 WARN DAGScheduler: Broadcasting large task binary with size 2.3 MiB\n",
      "22/03/06 19:27:30 WARN DAGScheduler: Broadcasting large task binary with size 3.1 MiB\n",
      "22/03/06 19:27:31 WARN DAGScheduler: Broadcasting large task binary with size 2.3 MiB\n",
      "22/03/06 19:29:36 WARN DAGScheduler: Broadcasting large task binary with size 3.1 MiB\n",
      "22/03/06 19:29:38 WARN DAGScheduler: Broadcasting large task binary with size 2.3 MiB\n",
      "22/03/06 19:30:40 WARN DAGScheduler: Broadcasting large task binary with size 3.1 MiB\n",
      "22/03/06 19:30:41 WARN DAGScheduler: Broadcasting large task binary with size 2.3 MiB\n",
      "22/03/06 19:32:39 WARN DAGScheduler: Broadcasting large task binary with size 3.1 MiB\n",
      "22/03/06 19:32:43 WARN RowMatrix: The input data was not directly cached, which may hurt performance if its parent RDDs are also uncached.\n"
     ]
    }
   ],
   "source": [
    "model_pca = pca.fit(df_features)"
   ]
  },
  {
   "cell_type": "code",
   "execution_count": 36,
   "id": "6350a9a9-744e-4f5a-ad4a-6a1d11bd5f19",
   "metadata": {},
   "outputs": [],
   "source": [
    "pca_features = model_pca.transform(df_features)"
   ]
  },
  {
   "cell_type": "code",
   "execution_count": 37,
   "id": "86ddd175-cfb8-4434-b47a-397b2c6eefc0",
   "metadata": {},
   "outputs": [
    {
     "name": "stdout",
     "output_type": "stream",
     "text": [
      "root\n",
      " |-- path: string (nullable = true)\n",
      " |-- category: string (nullable = true)\n",
      " |-- features: vector (nullable = true)\n",
      " |-- pca_features: vector (nullable = true)\n",
      "\n"
     ]
    }
   ],
   "source": [
    "pca_features.printSchema()"
   ]
  },
  {
   "cell_type": "code",
   "execution_count": 38,
   "id": "2247a330-ca43-4f38-a255-c74bbf02ca06",
   "metadata": {},
   "outputs": [
    {
     "name": "stderr",
     "output_type": "stream",
     "text": [
      "22/03/06 19:32:55 WARN DAGScheduler: Broadcasting large task binary with size 5.4 MiB\n",
      "22/03/06 19:33:22 WARN DAGScheduler: Broadcasting large task binary with size 5.4 MiB\n",
      "[Stage 123:>                                                        (0 + 1) / 1]\r"
     ]
    },
    {
     "name": "stdout",
     "output_type": "stream",
     "text": [
      "+--------------------+----------+--------------------+--------------------+\n",
      "|                path|  category|            features|        pca_features|\n",
      "+--------------------+----------+--------------------+--------------------+\n",
      "|s3a://oc-p8-bucke...| Raspberry|[0.0,0.0,0.0,0.0,...|[-65.283772526542...|\n",
      "|s3a://oc-p8-bucke...|      Kiwi|[0.0,0.0,0.0,0.0,...|[-128.44461315439...|\n",
      "|s3a://oc-p8-bucke...|  Maracuja|[0.0,0.0,0.0,0.0,...|[-123.14722624830...|\n",
      "|s3a://oc-p8-bucke...|  Maracuja|[0.0,0.0,0.0,0.0,...|[-89.397973720309...|\n",
      "|s3a://oc-p8-bucke...|     Lemon|[0.0,0.0,0.0,0.0,...|[-146.80115569649...|\n",
      "|s3a://oc-p8-bucke...|     Lemon|[0.0,0.0,0.0,0.0,...|[-144.93317239358...|\n",
      "|s3a://oc-p8-bucke...|      Kiwi|[0.0,0.0,0.0,0.0,...|[-157.56743129287...|\n",
      "|s3a://oc-p8-bucke...|Watermelon|[0.0,0.0,0.0,0.0,...|[-84.156082416864...|\n",
      "+--------------------+----------+--------------------+--------------------+\n",
      "only showing top 8 rows\n",
      "\n"
     ]
    },
    {
     "name": "stderr",
     "output_type": "stream",
     "text": [
      "                                                                                \r"
     ]
    }
   ],
   "source": [
    "pca_features.show(8) "
   ]
  },
  {
   "cell_type": "markdown",
   "id": "e64b1a12-5cc8-4246-9238-911038dd5fde",
   "metadata": {},
   "source": [
    "<div class=\"alert alert-block alert-info\">\n",
    "    <p>Let's plot the % of inertia (variance) based on the principal components.</p>\n",
    "</div>"
   ]
  },
  {
   "cell_type": "code",
   "execution_count": 64,
   "id": "b5125d22-5133-477e-a0d8-150af2eed3d0",
   "metadata": {},
   "outputs": [
    {
     "data": {
      "image/png": "[encoded data removed]",
      "text/plain": [
       "<Figure size 576x360 with 1 Axes>"
      ]
     },
     "metadata": {
      "needs_background": "light"
     },
     "output_type": "display_data"
    }
   ],
   "source": [
    "scree = model_pca.explainedVariance.cumsum()\n",
    "\n",
    "fig = plt.subplots(figsize=(8, 5))\n",
    "sns.set_context(context=\"notebook\", rc={\"lines.linewidth\": 3}, font_scale=0.8)\n",
    "sns.lineplot(x=[i for i in range(8)], y=np.insert(var, 0, 0)*100, color=\"orangered\")\n",
    "plt.xlabel(\"Principal components\", size=12)\n",
    "plt.ylabel(\"% of inertia\", size=12)\n",
    "plt.title(\"Scree of eigenvalues\", size=20)\n",
    "plt.ylim(0, 100)\n",
    "plt.xlim(left=0)\n",
    "plt.tight_layout()\n",
    "plt.show()"
   ]
  },
  {
   "cell_type": "markdown",
   "id": "4ee3f26e-786d-4a49-990e-3cb5fd162500",
   "metadata": {},
   "source": [
    "<div class=\"alert alert-block alert-info\">\n",
    "    <p>Let's save the PCA results as *.csv into our S3.</p>\n",
    "</div>"
   ]
  },
  {
   "cell_type": "code",
   "execution_count": 65,
   "id": "d02a6e4e-1b5d-423f-b793-98cd4a5abaf4",
   "metadata": {},
   "outputs": [],
   "source": [
    "df_final = pca_features.select(\"path\", \"category\", \"pca_features\")"
   ]
  },
  {
   "cell_type": "code",
   "execution_count": 66,
   "id": "f74e43c6-7207-402c-bc86-20b3cbc007c3",
   "metadata": {},
   "outputs": [
    {
     "name": "stderr",
     "output_type": "stream",
     "text": [
      "22/03/06 21:01:42 WARN DAGScheduler: Broadcasting large task binary with size 5.4 MiB\n",
      "2022-03-06 21:01:45.086997: W tensorflow/stream_executor/platform/default/dso_loader.cc:64] Could not load dynamic library 'libcudart.so.11.0'; dlerror: libcudart.so.11.0: cannot open shared object file: No such file or directory\n",
      "2022-03-06 21:01:45.086997: W tensorflow/stream_executor/platform/default/dso_loader.cc:64] Could not load dynamic library 'libcudart.so.11.0'; dlerror: libcudart.so.11.0: cannot open shared object file: No such file or directory\n",
      "2022-03-06 21:01:45.091000: I tensorflow/stream_executor/cuda/cudart_stub.cc:29] Ignore above cudart dlerror if you do not have a GPU set up on your machine.\n",
      "2022-03-06 21:01:45.091032: I tensorflow/stream_executor/cuda/cudart_stub.cc:29] Ignore above cudart dlerror if you do not have a GPU set up on your machine.\n",
      "2022-03-06 21:01:54.369756: W tensorflow/stream_executor/platform/default/dso_loader.cc:64] Could not load dynamic library 'libcuda.so.1'; dlerror: libcuda.so.1: cannot open shared object file: No such file or directory\n",
      "2022-03-06 21:01:54.369766: W tensorflow/stream_executor/platform/default/dso_loader.cc:64] Could not load dynamic library 'libcuda.so.1'; dlerror: libcuda.so.1: cannot open shared object file: No such file or directory\n",
      "2022-03-06 21:01:54.369796: W tensorflow/stream_executor/cuda/cuda_driver.cc:269] failed call to cuInit: UNKNOWN ERROR (303)\n",
      "2022-03-06 21:01:54.369826: I tensorflow/stream_executor/cuda/cuda_diagnostics.cc:156] kernel driver does not appear to be running on this host (ip-172-31-80-208): /proc/driver/nvidia/version does not exist\n",
      "2022-03-06 21:01:54.369871: W tensorflow/stream_executor/cuda/cuda_driver.cc:269] failed call to cuInit: UNKNOWN ERROR (303)\n",
      "2022-03-06 21:01:54.369911: I tensorflow/stream_executor/cuda/cuda_diagnostics.cc:156] kernel driver does not appear to be running on this host (ip-172-31-80-208): /proc/driver/nvidia/version does not exist\n",
      "2022-03-06 21:01:54.371042: I tensorflow/core/platform/cpu_feature_guard.cc:151] This TensorFlow binary is optimized with oneAPI Deep Neural Network Library (oneDNN) to use the following CPU instructions in performance-critical operations:  AVX2 FMA\n",
      "To enable them in other operations, rebuild TensorFlow with the appropriate compiler flags.\n",
      "2022-03-06 21:01:54.371223: I tensorflow/core/platform/cpu_feature_guard.cc:151] This TensorFlow binary is optimized with oneAPI Deep Neural Network Library (oneDNN) to use the following CPU instructions in performance-critical operations:  AVX2 FMA\n",
      "To enable them in other operations, rebuild TensorFlow with the appropriate compiler flags.\n",
      "2022-03-06 21:01:59.153414: W tensorflow/core/framework/cpu_allocator_impl.cc:82] Allocation of 19267584 exceeds 10% of free system memory.\n",
      "2022-03-06 21:01:59.153548: W tensorflow/core/framework/cpu_allocator_impl.cc:82] Allocation of 19267584 exceeds 10% of free system memory.\n",
      "2022-03-06 21:01:59.361907: W tensorflow/core/framework/cpu_allocator_impl.cc:82] Allocation of 19267584 exceeds 10% of free system memory.\n",
      "2022-03-06 21:01:59.361907: W tensorflow/core/framework/cpu_allocator_impl.cc:82] Allocation of 19267584 exceeds 10% of free system memory.\n",
      "2022-03-06 21:01:59.395489: W tensorflow/core/framework/cpu_allocator_impl.cc:82] Allocation of 19961856 exceeds 10% of free system memory.\n",
      "2022-03-06 21:01:59.408872: W tensorflow/core/framework/cpu_allocator_impl.cc:82] Allocation of 19961856 exceeds 10% of free system memory.\n",
      "2022-03-06 21:01:59.423235: W tensorflow/core/framework/cpu_allocator_impl.cc:82] Allocation of 19267584 exceeds 10% of free system memory.\n",
      "2022-03-06 21:01:59.427473: W tensorflow/core/framework/cpu_allocator_impl.cc:82] Allocation of 19267584 exceeds 10% of free system memory.\n",
      "2022-03-06 21:01:59.461056: W tensorflow/core/framework/cpu_allocator_impl.cc:82] Allocation of 19267584 exceeds 10% of free system memory.\n",
      "2022-03-06 21:01:59.486438: W tensorflow/core/framework/cpu_allocator_impl.cc:82] Allocation of 19267584 exceeds 10% of free system memory.\n",
      "2022-03-06 21:02:29.811973: W tensorflow/stream_executor/platform/default/dso_loader.cc:64] Could not load dynamic library 'libcudart.so.11.0'; dlerror: libcudart.so.11.0: cannot open shared object file: No such file or directory\n",
      "2022-03-06 21:02:29.818564: I tensorflow/stream_executor/cuda/cudart_stub.cc:29] Ignore above cudart dlerror if you do not have a GPU set up on your machine.\n",
      "2022-03-06 21:02:39.312421: W tensorflow/stream_executor/platform/default/dso_loader.cc:64] Could not load dynamic library 'libcuda.so.1'; dlerror: libcuda.so.1: cannot open shared object file: No such file or directory\n",
      "2022-03-06 21:02:39.312474: W tensorflow/stream_executor/cuda/cuda_driver.cc:269] failed call to cuInit: UNKNOWN ERROR (303)\n",
      "2022-03-06 21:02:39.312506: I tensorflow/stream_executor/cuda/cuda_diagnostics.cc:156] kernel driver does not appear to be running on this host (ip-172-31-80-208): /proc/driver/nvidia/version does not exist\n",
      "2022-03-06 21:02:39.313501: I tensorflow/core/platform/cpu_feature_guard.cc:151] This TensorFlow binary is optimized with oneAPI Deep Neural Network Library (oneDNN) to use the following CPU instructions in performance-critical operations:  AVX2 FMA\n",
      "To enable them in other operations, rebuild TensorFlow with the appropriate compiler flags.\n",
      "2022-03-06 21:02:43.470628: W tensorflow/core/framework/cpu_allocator_impl.cc:82] Allocation of 19267584 exceeds 10% of free system memory.\n",
      "2022-03-06 21:02:43.602254: W tensorflow/core/framework/cpu_allocator_impl.cc:82] Allocation of 19267584 exceeds 10% of free system memory.\n",
      "2022-03-06 21:02:43.625465: W tensorflow/core/framework/cpu_allocator_impl.cc:82] Allocation of 19961856 exceeds 10% of free system memory.\n",
      "2022-03-06 21:02:43.649391: W tensorflow/core/framework/cpu_allocator_impl.cc:82] Allocation of 19267584 exceeds 10% of free system memory.\n",
      "2022-03-06 21:02:43.694556: W tensorflow/core/framework/cpu_allocator_impl.cc:82] Allocation of 19267584 exceeds 10% of free system memory.\n",
      "WARNING:tensorflow:5 out of the last 5 calls to <function Model.make_predict_function.<locals>.predict_function at 0x7f897a3c6790> triggered tf.function retracing. Tracing is expensive and the excessive number of tracings could be due to (1) creating @tf.function repeatedly in a loop, (2) passing tensors with different shapes, (3) passing Python objects instead of tensors. For (1), please define your @tf.function outside of the loop. For (2), @tf.function has experimental_relax_shapes=True option that relaxes argument shapes that can avoid unnecessary retracing. For (3), please refer to https://www.tensorflow.org/guide/function#controlling_retracing and https://www.tensorflow.org/api_docs/python/tf/function for  more details.\n",
      "WARNING:tensorflow:6 out of the last 6 calls to <function Model.make_predict_function.<locals>.predict_function at 0x7f897a3c6790> triggered tf.function retracing. Tracing is expensive and the excessive number of tracings could be due to (1) creating @tf.function repeatedly in a loop, (2) passing tensors with different shapes, (3) passing Python objects instead of tensors. For (1), please define your @tf.function outside of the loop. For (2), @tf.function has experimental_relax_shapes=True option that relaxes argument shapes that can avoid unnecessary retracing. For (3), please refer to https://www.tensorflow.org/guide/function#controlling_retracing and https://www.tensorflow.org/api_docs/python/tf/function for  more details.\n",
      "2022-03-06 21:02:57.121736: W tensorflow/stream_executor/platform/default/dso_loader.cc:64] Could not load dynamic library 'libcudart.so.11.0'; dlerror: libcudart.so.11.0: cannot open shared object file: No such file or directory\n",
      "2022-03-06 21:02:57.124642: I tensorflow/stream_executor/cuda/cudart_stub.cc:29] Ignore above cudart dlerror if you do not have a GPU set up on your machine.\n",
      "WARNING:tensorflow:5 out of the last 5 calls to <function Model.make_predict_function.<locals>.predict_function at 0x7f897a374310> triggered tf.function retracing. Tracing is expensive and the excessive number of tracings could be due to (1) creating @tf.function repeatedly in a loop, (2) passing tensors with different shapes, (3) passing Python objects instead of tensors. For (1), please define your @tf.function outside of the loop. For (2), @tf.function has experimental_relax_shapes=True option that relaxes argument shapes that can avoid unnecessary retracing. For (3), please refer to https://www.tensorflow.org/guide/function#controlling_retracing and https://www.tensorflow.org/api_docs/python/tf/function for  more details.\n",
      "2022-03-06 21:03:07.579455: W tensorflow/stream_executor/platform/default/dso_loader.cc:64] Could not load dynamic library 'libcuda.so.1'; dlerror: libcuda.so.1: cannot open shared object file: No such file or directory\n",
      "2022-03-06 21:03:07.580016: W tensorflow/stream_executor/cuda/cuda_driver.cc:269] failed call to cuInit: UNKNOWN ERROR (303)\n",
      "2022-03-06 21:03:07.580245: I tensorflow/stream_executor/cuda/cuda_diagnostics.cc:156] kernel driver does not appear to be running on this host (ip-172-31-80-208): /proc/driver/nvidia/version does not exist\n",
      "2022-03-06 21:03:07.580809: I tensorflow/core/platform/cpu_feature_guard.cc:151] This TensorFlow binary is optimized with oneAPI Deep Neural Network Library (oneDNN) to use the following CPU instructions in performance-critical operations:  AVX2 FMA\n",
      "To enable them in other operations, rebuild TensorFlow with the appropriate compiler flags.\n",
      "WARNING:tensorflow:6 out of the last 6 calls to <function Model.make_predict_function.<locals>.predict_function at 0x7f897ac6e280> triggered tf.function retracing. Tracing is expensive and the excessive number of tracings could be due to (1) creating @tf.function repeatedly in a loop, (2) passing tensors with different shapes, (3) passing Python objects instead of tensors. For (1), please define your @tf.function outside of the loop. For (2), @tf.function has experimental_relax_shapes=True option that relaxes argument shapes that can avoid unnecessary retracing. For (3), please refer to https://www.tensorflow.org/guide/function#controlling_retracing and https://www.tensorflow.org/api_docs/python/tf/function for  more details.\n",
      "2022-03-06 21:03:12.041527: W tensorflow/core/framework/cpu_allocator_impl.cc:82] Allocation of 19267584 exceeds 10% of free system memory.\n",
      "2022-03-06 21:03:12.199735: W tensorflow/core/framework/cpu_allocator_impl.cc:82] Allocation of 19267584 exceeds 10% of free system memory.\n",
      "2022-03-06 21:03:12.214953: W tensorflow/core/framework/cpu_allocator_impl.cc:82] Allocation of 19961856 exceeds 10% of free system memory.\n",
      "2022-03-06 21:03:12.230406: W tensorflow/core/framework/cpu_allocator_impl.cc:82] Allocation of 19267584 exceeds 10% of free system memory.\n",
      "2022-03-06 21:03:12.249103: W tensorflow/core/framework/cpu_allocator_impl.cc:82] Allocation of 19267584 exceeds 10% of free system memory.\n",
      "                                                                                \r"
     ]
    }
   ],
   "source": [
    "df_final_pd = df_final.toPandas()"
   ]
  },
  {
   "cell_type": "code",
   "execution_count": 69,
   "id": "ddd6352b-9f59-490a-bf93-21f92b94db36",
   "metadata": {},
   "outputs": [],
   "source": [
    "df_final_pd.to_csv(\"s3a://{}/{}/{}\".format(BUCKET, RESULT, \"P7_PCA_result.csv\"))"
   ]
  },
  {
   "cell_type": "code",
   "execution_count": null,
   "id": "2a63cd81-0de7-4ae7-837e-0fbb32a43971",
   "metadata": {},
   "outputs": [],
   "source": []
  }
 ],
 "metadata": {
  "kernelspec": {
   "display_name": "Python 3 (ipykernel)",
   "language": "python",
   "name": "python3"
  },
  "language_info": {
   "codemirror_mode": {
    "name": "ipython",
    "version": 3
   },
   "file_extension": ".py",
   "mimetype": "text/x-python",
   "name": "python",
   "nbconvert_exporter": "python",
   "pygments_lexer": "ipython3",
   "version": "3.8.10"
  }
 },
 "nbformat": 4,
 "nbformat_minor": 5
}
